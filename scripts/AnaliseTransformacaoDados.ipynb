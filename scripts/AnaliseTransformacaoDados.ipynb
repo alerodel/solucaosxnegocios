{
 "cells": [
  {
   "cell_type": "markdown",
   "metadata": {},
   "source": [
    "# <font color='White'>Projeto SX Negócios</font>\n",
    "# <font color='White'>Estudo de Caso com Python e Spark</font>\n",
    "\n",
    "## <font color='White'>Candidato: Alexandre Rodel de Almeida</font>\n",
    "\n",
    "### <font color='White'>Análise Exploratória e Transformação de Dados do ENEM</font>"
   ]
  },
  {
   "cell_type": "markdown",
   "metadata": {},
   "source": [
    "Qualquer detalhe a respeito do Projeto será colocado aqui como comentário."
   ]
  },
  {
   "cell_type": "markdown",
   "metadata": {},
   "source": [
    "![title](SX_logo.png)"
   ]
  },
  {
   "cell_type": "code",
   "execution_count": 1,
   "metadata": {},
   "outputs": [
    {
     "name": "stdout",
     "output_type": "stream",
     "text": [
      "Versão da Linguagem Python Usada Neste Jupyter Notebook: 3.9.7\n"
     ]
    }
   ],
   "source": [
    "# Versão da Linguagem Python\n",
    "from platform import python_version\n",
    "print('Versão da Linguagem Python Usada Neste Jupyter Notebook:', python_version())"
   ]
  },
  {
   "cell_type": "code",
   "execution_count": 2,
   "metadata": {},
   "outputs": [],
   "source": [
    "# !pip install --upgrade pip"
   ]
  },
  {
   "cell_type": "code",
   "execution_count": 3,
   "metadata": {},
   "outputs": [],
   "source": [
    "# https://pypi.org/project/findspark/\n",
    "# !pip install -q findspark\n",
    "#!pip install watermark\n",
    "# !pip install matplotlib seaborn numpy pandas pyspark"
   ]
  },
  {
   "cell_type": "code",
   "execution_count": 4,
   "metadata": {},
   "outputs": [],
   "source": [
    "# Importa o findspark e inicializa\n",
    "import findspark\n",
    "findspark.init()"
   ]
  },
  {
   "cell_type": "code",
   "execution_count": 5,
   "metadata": {
    "id": "CPDsD_yhZrO1"
   },
   "outputs": [],
   "source": [
    "# Imports\n",
    "import pyspark\n",
    "import pandas as pd\n",
    "import numpy as np\n",
    "import seaborn as sns\n",
    "from matplotlib import pyplot as plt\n",
    "from pyspark import SparkConf, SparkContext\n",
    "from pyspark.sql import SparkSession, SQLContext\n",
    "from pyspark.sql.types import *\n",
    "from pyspark.sql.functions import *\n",
    "from pyspark.ml.linalg import Vectors\n",
    "from pyspark.ml.feature import StringIndexer\n",
    "from pyspark.ml.regression import LinearRegression\n",
    "from pyspark.mllib.evaluation import RegressionMetrics\n",
    "from pyspark.ml.linalg import Vectors\n",
    "from pyspark.ml.feature import StringIndexer\n",
    "from pyspark.ml.stat import Correlation\n",
    "from pyspark.ml.feature import MinMaxScaler\n",
    "from pyspark.ml.feature import VectorAssembler\n",
    "from pyspark.ml import Pipeline\n",
    "from pyspark.ml.tuning import ParamGridBuilder, CrossValidator, CrossValidatorModel\n",
    "from pyspark.ml.feature import VectorAssembler, StandardScaler\n",
    "from pyspark.ml.evaluation import RegressionEvaluator"
   ]
  },
  {
   "cell_type": "code",
   "execution_count": 6,
   "metadata": {},
   "outputs": [],
   "source": [
    "# Formatação das saídas\n",
    "pd.set_option('display.max_columns', 200)\n",
    "pd.set_option('display.max_colwidth', 400)\n",
    "from matplotlib.axes._axes import _log as matplotlib_axes_logger\n",
    "matplotlib_axes_logger.setLevel('ERROR')"
   ]
  },
  {
   "cell_type": "code",
   "execution_count": 7,
   "metadata": {},
   "outputs": [
    {
     "name": "stdout",
     "output_type": "stream",
     "text": [
      "Author: SolutionSXAlexandre\n",
      "\n",
      "sys       : 3.9.7 (tags/v3.9.7:1016ef3, Aug 30 2021, 20:19:38) [MSC v.1929 64 bit (AMD64)]\n",
      "numpy     : 2.0.2\n",
      "findspark : 2.0.1\n",
      "pandas    : 2.2.3\n",
      "seaborn   : 0.13.2\n",
      "matplotlib: 3.9.2\n",
      "platform  : 1.0.8\n",
      "py4j      : 0.10.9.7\n",
      "decimal   : 1.70\n",
      "pyspark   : 3.5.3\n",
      "\n"
     ]
    }
   ],
   "source": [
    "# Versões dos pacotes usados neste jupyter notebook\n",
    "%reload_ext watermark\n",
    "%watermark -a \"SolutionSXAlexandre\" --iversions"
   ]
  },
  {
   "cell_type": "markdown",
   "metadata": {},
   "source": [
    "## Preparando o Ambiente Spark\n",
    "\n",
    "Criando e conectando um SparkContext (cluster Spark)."
   ]
  },
  {
   "cell_type": "code",
   "execution_count": 8,
   "metadata": {
    "id": "eeFpjeqJZ6Nf"
   },
   "outputs": [],
   "source": [
    "# Definindo semente aleatória (seed) para reprodutibilidade do notebook\n",
    "rnd_seed = 23\n",
    "np.random.seed = rnd_seed\n",
    "np.random.set_state = rnd_seed"
   ]
  },
  {
   "cell_type": "code",
   "execution_count": 9,
   "metadata": {
    "id": "BQTuvaMhKkrK"
   },
   "outputs": [],
   "source": [
    "# Criando o Spark Context\n",
    "sc = SparkContext(appName = \"transformacaoDados\")"
   ]
  },
  {
   "cell_type": "code",
   "execution_count": 19,
   "metadata": {},
   "outputs": [],
   "source": [
    "# Criando a sessão Spark\n",
    "spark_session = SparkSession.Builder().getOrCreate()"
   ]
  },
  {
   "cell_type": "code",
   "execution_count": 20,
   "metadata": {
    "colab": {
     "base_uri": "https://localhost:8080/",
     "height": 219
    },
    "id": "Ec8oNb8qK6Pm",
    "outputId": "1653edd4-1ee3-41fa-d53c-6fe717b0aac5"
   },
   "outputs": [
    {
     "data": {
      "text/html": [
       "\n",
       "            <div>\n",
       "                <p><b>SparkSession - in-memory</b></p>\n",
       "                \n",
       "        <div>\n",
       "            <p><b>SparkContext</b></p>\n",
       "\n",
       "            <p><a href=\"http://192.168.56.1:4040\">Spark UI</a></p>\n",
       "\n",
       "            <dl>\n",
       "              <dt>Version</dt>\n",
       "                <dd><code>v3.5.3</code></dd>\n",
       "              <dt>Master</dt>\n",
       "                <dd><code>local[*]</code></dd>\n",
       "              <dt>AppName</dt>\n",
       "                <dd><code>transformacaoDados</code></dd>\n",
       "            </dl>\n",
       "        </div>\n",
       "        \n",
       "            </div>\n",
       "        "
      ],
      "text/plain": [
       "<pyspark.sql.session.SparkSession at 0x2139bd0e3a0>"
      ]
     },
     "execution_count": 20,
     "metadata": {},
     "output_type": "execute_result"
    }
   ],
   "source": [
    "# Visualiza o objeto spark_session\n",
    "spark_session"
   ]
  },
  {
   "cell_type": "markdown",
   "metadata": {},
   "source": [
    "## Carregando os Dados"
   ]
  },
  {
   "cell_type": "code",
   "execution_count": null,
   "metadata": {
    "id": "MrRYMdxGM2SJ"
   },
   "outputs": [],
   "source": [
    "# Carrega os dados a partir da sessão Spark\n",
    "df_spark = spark_session.read.csv(path = '\"D:\\Documents\\UNIVERSIDADE\\CURSOS_APERFEICOAMENTO\\DATA_SCIENCE\\Testes_Empresas\\SX_Negocios\\DesafioSX\\DADOS\\MICRODADOS_ENEM_2020.csv\"', \n",
    "                                  sep = ';',\n",
    "                                  header = True, \n",
    "                                  inferSchema = True)"
   ]
  },
  {
   "cell_type": "code",
   "execution_count": 13,
   "metadata": {},
   "outputs": [
    {
     "data": {
      "text/plain": [
       "pyspark.sql.dataframe.DataFrame"
      ]
     },
     "execution_count": 13,
     "metadata": {},
     "output_type": "execute_result"
    }
   ],
   "source": [
    "# Tipo do objeto\n",
    "type(df_spark)"
   ]
  },
  {
   "cell_type": "code",
   "execution_count": 14,
   "metadata": {
    "colab": {
     "base_uri": "https://localhost:8080/"
    },
    "id": "9COe3UZhO0D5",
    "outputId": "dfd48aee-686c-4ec5-8892-214e16a64c72"
   },
   "outputs": [
    {
     "name": "stdout",
     "output_type": "stream",
     "text": [
      "+------------+------+---------------+-------+---------------+-----------+----------------+---------------+---------------+---------+---------+------------+----------------+-------------------+---------+---------+----------------------+------------------+---------------+------------------+--------------------+-----------+-----------+--------------+--------------+--------------+--------------+-----------+-----------+-----------+-----------+----------+----------+----------+----------+--------------------+--------------------+--------------------+--------------------+---------+--------------------+--------------------+--------------------+--------------------+-----------------+-------------+-------------+-------------+-------------+-------------+---------------+----+----+----+----+----+----+----+----+----+----+----+----+----+----+----+----+----+----+----+----+----+----+----+----+----+\n",
      "|NU_INSCRICAO|NU_ANO|TP_FAIXA_ETARIA|TP_SEXO|TP_ESTADO_CIVIL|TP_COR_RACA|TP_NACIONALIDADE|TP_ST_CONCLUSAO|TP_ANO_CONCLUIU|TP_ESCOLA|TP_ENSINO|IN_TREINEIRO|CO_MUNICIPIO_ESC|   NO_MUNICIPIO_ESC|CO_UF_ESC|SG_UF_ESC|TP_DEPENDENCIA_ADM_ESC|TP_LOCALIZACAO_ESC|TP_SIT_FUNC_ESC|CO_MUNICIPIO_PROVA|  NO_MUNICIPIO_PROVA|CO_UF_PROVA|SG_UF_PROVA|TP_PRESENCA_CN|TP_PRESENCA_CH|TP_PRESENCA_LC|TP_PRESENCA_MT|CO_PROVA_CN|CO_PROVA_CH|CO_PROVA_LC|CO_PROVA_MT|NU_NOTA_CN|NU_NOTA_CH|NU_NOTA_LC|NU_NOTA_MT|     TX_RESPOSTAS_CN|     TX_RESPOSTAS_CH|     TX_RESPOSTAS_LC|     TX_RESPOSTAS_MT|TP_LINGUA|      TX_GABARITO_CN|      TX_GABARITO_CH|      TX_GABARITO_LC|      TX_GABARITO_MT|TP_STATUS_REDACAO|NU_NOTA_COMP1|NU_NOTA_COMP2|NU_NOTA_COMP3|NU_NOTA_COMP4|NU_NOTA_COMP5|NU_NOTA_REDACAO|Q001|Q002|Q003|Q004|Q005|Q006|Q007|Q008|Q009|Q010|Q011|Q012|Q013|Q014|Q015|Q016|Q017|Q018|Q019|Q020|Q021|Q022|Q023|Q024|Q025|\n",
      "+------------+------+---------------+-------+---------------+-----------+----------------+---------------+---------------+---------+---------+------------+----------------+-------------------+---------+---------+----------------------+------------------+---------------+------------------+--------------------+-----------+-----------+--------------+--------------+--------------+--------------+-----------+-----------+-----------+-----------+----------+----------+----------+----------+--------------------+--------------------+--------------------+--------------------+---------+--------------------+--------------------+--------------------+--------------------+-----------------+-------------+-------------+-------------+-------------+-------------+---------------+----+----+----+----+----+----+----+----+----+----+----+----+----+----+----+----+----+----+----+----+----+----+----+----+----+\n",
      "|200006271946|  2020|             11|      F|              1|          2|               1|              1|             11|        1|     NULL|           0|            NULL|               NULL|     NULL|     NULL|                  NULL|              NULL|           NULL|           1501402|               Bel�m|         15|         PA|             0|             0|             0|             0|       NULL|       NULL|       NULL|       NULL|      NULL|      NULL|      NULL|      NULL|                NULL|                NULL|                NULL|                NULL|        1|                NULL|                NULL|                NULL|                NULL|             NULL|         NULL|         NULL|         NULL|         NULL|         NULL|           NULL|NULL|NULL|NULL|NULL|NULL|NULL|NULL|NULL|NULL|NULL|NULL|NULL|NULL|NULL|NULL|NULL|NULL|NULL|NULL|NULL|NULL|NULL|NULL|NULL|NULL|\n",
      "|200001195856|  2020|             11|      M|              2|          3|               1|              1|             11|        1|     NULL|           0|            NULL|               NULL|     NULL|     NULL|                  NULL|              NULL|           NULL|           2408102|               Natal|         24|         RN|             1|             1|             1|             1|        702|        689|        693|        698|     604.1|     661.7|     595.3|     711.3|BCBDBDCCCDBDDBADE...|BCAECABCDCEBDBBBD...|99999CADDEDADBAAB...|EBEBDEDAECBADCADD...|        1|ABBACBCCCDDDDBAEE...|BCEECDBCCDEBDBBBB...|99999CBDDEDBDBACE...|BBEADECAECBBXCEBA...|                1|          120|          120|          120|          120|          100|            580|NULL|NULL|NULL|NULL|NULL|NULL|NULL|NULL|NULL|NULL|NULL|NULL|NULL|NULL|NULL|NULL|NULL|NULL|NULL|NULL|NULL|NULL|NULL|NULL|NULL|\n",
      "|200001943954|  2020|              4|      F|              2|          3|               2|              2|              0|        2|        1|           0|         2927408|           Salvador|       29|       BA|                     2|                 1|              1|           2927408|            Salvador|         29|         BA|             0|             0|             0|             0|       NULL|       NULL|       NULL|       NULL|      NULL|      NULL|      NULL|      NULL|                NULL|                NULL|                NULL|                NULL|        0|                NULL|                NULL|                NULL|                NULL|             NULL|         NULL|         NULL|         NULL|         NULL|         NULL|           NULL|   B|   C|   A|   D|   3|   B|   A|   B|   A|   A|   A|   B|   A|   B|   A|   B|   A|   A|   B|   A|   A|   A|   A|   A|   A|\n",
      "|200001908998|  2020|              2|      M|              1|          3|               1|              2|              0|        2|        1|           0|         3547304|Santana de Parna�ba|       35|       SP|                     3|                 1|              1|           3547304| Santana de Parna�ba|         35|         SP|             1|             1|             1|             1|        700|        688|        692|        696|     620.8|     675.0|     624.2|     759.4|EBEDCCCDCBDBAECAE...|DABCCACCBCCDCADBD...|DCEAB99999AADAECC...|CBDBDCCDDEECBAABB...|        0|BDECCACBEBDEAEDAE...|DABCCAECBABECADBD...|DCEAD99999AADACCC...|EBDBXCCDAEECBAABA...|                1|          140|          200|          140|          120|          160|            760|NULL|NULL|NULL|NULL|NULL|NULL|NULL|NULL|NULL|NULL|NULL|NULL|NULL|NULL|NULL|NULL|NULL|NULL|NULL|NULL|NULL|NULL|NULL|NULL|NULL|\n",
      "|200001634757|  2020|              4|      F|              1|          3|               2|              1|              1|        1|     NULL|           0|            NULL|               NULL|     NULL|     NULL|                  NULL|              NULL|           NULL|           3121605|          Diamantina|         31|         MG|             0|             0|             0|             0|       NULL|       NULL|       NULL|       NULL|      NULL|      NULL|      NULL|      NULL|                NULL|                NULL|                NULL|                NULL|        1|                NULL|                NULL|                NULL|                NULL|             NULL|         NULL|         NULL|         NULL|         NULL|         NULL|           NULL|   B|   G|   B|   B|   3|   B|   A|   B|   D|   A|   A|   B|   A|   B|   A|   A|   A|   A|   B|   A|   B|   B|   A|   A|   B|\n",
      "|200003132410|  2020|              3|      F|              1|          3|               1|              1|              1|        1|     NULL|           0|            NULL|               NULL|     NULL|     NULL|                  NULL|              NULL|           NULL|           4305207|         Cerro Largo|         43|         RS|             1|             1|             1|             1|        598|        567|        577|        588|     498.1|     604.7|     505.4|     526.7|CABBEEACAEBEBCCDA...|ACEBBDDCADDAACEEA...|99999CBECEBEDBEEC...|BADCAAAEEDBEDBACE...|        1|CEDBDDDCACCBDAEBA...|DABCBDDDAEDBECECB...|AAEDCACEEECEAACBA...|AEBCCXCCCACCDABCC...|                1|          140|          120|          140|          140|          160|            700|   C|   B|   C|   B|   5|   C|   A|   B|   E|   A|   A|   B|   A|   A|   A|   B|   A|   A|   B|   B|   A|   D|   A|   B|   B|\n",
      "|200001379770|  2020|              9|      M|              1|          3|               1|              1|              6|        1|     NULL|           0|            NULL|               NULL|     NULL|     NULL|                  NULL|              NULL|           NULL|           2611606|              Recife|         26|         PE|             0|             0|             0|             0|       NULL|       NULL|       NULL|       NULL|      NULL|      NULL|      NULL|      NULL|                NULL|                NULL|                NULL|                NULL|        0|                NULL|                NULL|                NULL|                NULL|             NULL|         NULL|         NULL|         NULL|         NULL|         NULL|           NULL|NULL|NULL|NULL|NULL|NULL|NULL|NULL|NULL|NULL|NULL|NULL|NULL|NULL|NULL|NULL|NULL|NULL|NULL|NULL|NULL|NULL|NULL|NULL|NULL|NULL|\n",
      "|200001334237|  2020|              4|      M|              1|          1|               1|              1|              1|        1|     NULL|           0|            NULL|               NULL|     NULL|     NULL|                  NULL|              NULL|           NULL|           3550308|           S�o Paulo|         35|         SP|             1|             1|             1|             1|        699|        687|        691|        695|     604.6|     604.8|     562.1|     753.2|CECACBBCADACADDEE...|EAADABBEABCADDBAA...|CADDE99999AEEADBA...|BABADDBDAEBAEBBBE...|        0|DEAAECBBCDCBAEBEE...|EAAADBBEDBDACDBCC...|CADDE99999DEBBBBB...|BABBDABAEEBACBACD...|                1|          140|          120|          120|          120|          100|            600|NULL|NULL|NULL|NULL|NULL|NULL|NULL|NULL|NULL|NULL|NULL|NULL|NULL|NULL|NULL|NULL|NULL|NULL|NULL|NULL|NULL|NULL|NULL|NULL|NULL|\n",
      "|200006762554|  2020|              5|      F|              2|          3|               1|              1|              3|        1|     NULL|           0|            NULL|               NULL|     NULL|     NULL|                  NULL|              NULL|           NULL|           2507507|         Jo�o Pessoa|         25|         PB|             1|             1|             1|             1|        598|        567|        577|        588|     439.7|     383.5|     486.2|     448.5|DABCDCAEDEDCBEDCD...|ECCAEAEACDDABCBDA...|99999DDCBBABECCAC...|EEDCCEACEBAAAADCD...|        1|CEDBDDDCACCBDAEBA...|DABCBDDDAEDBECECB...|AAEDCACEEECEAACBA...|AEBCCXCCCACCDABCC...|                1|          120|          120|          120|          140|          100|            600|   B|   C|   C|   B|   2|   B|   A|   B|   C|   A|   A|   B|   A|   B|   A|   A|   A|   A|   B|   A|   A|   C|   A|   A|   A|\n",
      "|200005146210|  2020|              2|      M|              1|          2|               1|              2|              0|        2|        1|           0|            NULL|               NULL|     NULL|     NULL|                  NULL|              NULL|           NULL|           2304400|           Fortaleza|         23|         CE|             0|             0|             0|             0|       NULL|       NULL|       NULL|       NULL|      NULL|      NULL|      NULL|      NULL|                NULL|                NULL|                NULL|                NULL|        0|                NULL|                NULL|                NULL|                NULL|             NULL|         NULL|         NULL|         NULL|         NULL|         NULL|           NULL|   A|   A|   B|   A|   4|   B|   A|   B|   B|   A|   A|   B|   A|   A|   A|   A|   A|   A|   B|   A|   A|   A|   A|   A|   B|\n",
      "|200004902048|  2020|              6|      M|              1|          1|               1|              1|              3|        1|     NULL|           0|            NULL|               NULL|     NULL|     NULL|                  NULL|              NULL|           NULL|           3550308|           S�o Paulo|         35|         SP|             0|             0|             0|             0|       NULL|       NULL|       NULL|       NULL|      NULL|      NULL|      NULL|      NULL|                NULL|                NULL|                NULL|                NULL|        0|                NULL|                NULL|                NULL|                NULL|             NULL|         NULL|         NULL|         NULL|         NULL|         NULL|           NULL|   B|   B|   B|   B|   7|   B|   A|   B|   C|   A|   A|   B|   A|   A|   A|   B|   A|   A|   B|   A|   A|   C|   B|   B|   B|\n",
      "|200006138472|  2020|              7|      M|              1|          1|               1|              1|              0|        1|     NULL|           0|            NULL|               NULL|     NULL|     NULL|                  NULL|              NULL|           NULL|           2910727|           Eun�polis|         29|         BA|             1|             1|             1|             1|        598|        567|        577|        588|     491.1|     631.4|     627.9|     546.5|BAEACEDBACDDEDECE...|CDEABDDDABDBEABCA...|AACDC99999ABDBEDA...|EBCDBEBABDBBDABCB...|        0|CEDBDDDCACCBDAEBA...|DABCBDDDAEDBECECB...|AAEDCACEEECEAACBA...|AEBCCXCCCACCDABCC...|                1|          140|          120|          140|          120|          120|            640|   B|   C|   C|   B|   5|   B|   A|   B|   C|   A|   A|   B|   A|   A|   A|   A|   B|   A|   B|   A|   A|   C|   A|   B|   B|\n",
      "|200005613689|  2020|              3|      F|              1|          3|               1|              1|              1|        1|     NULL|           0|            NULL|               NULL|     NULL|     NULL|                  NULL|              NULL|           NULL|           5008305|         Tr�s Lagoas|         50|         MS|             0|             0|             0|             0|       NULL|       NULL|       NULL|       NULL|      NULL|      NULL|      NULL|      NULL|                NULL|                NULL|                NULL|                NULL|        0|                NULL|                NULL|                NULL|                NULL|             NULL|         NULL|         NULL|         NULL|         NULL|         NULL|           NULL|   D|   E|   A|   A|   3|   B|   A|   B|   C|   A|   A|   B|   A|   A|   A|   A|   A|   A|   A|   A|   A|   C|   A|   A|   A|\n",
      "|200004833505|  2020|             11|      F|              2|          2|               1|              1|             12|        1|     NULL|           0|            NULL|               NULL|     NULL|     NULL|                  NULL|              NULL|           NULL|           3547809|         Santo Andr�|         35|         SP|             0|             0|             0|             0|       NULL|       NULL|       NULL|       NULL|      NULL|      NULL|      NULL|      NULL|                NULL|                NULL|                NULL|                NULL|        1|                NULL|                NULL|                NULL|                NULL|             NULL|         NULL|         NULL|         NULL|         NULL|         NULL|           NULL|NULL|NULL|NULL|NULL|NULL|NULL|NULL|NULL|NULL|NULL|NULL|NULL|NULL|NULL|NULL|NULL|NULL|NULL|NULL|NULL|NULL|NULL|NULL|NULL|NULL|\n",
      "|200004570764|  2020|             11|      M|              1|          2|               1|              1|              0|        1|     NULL|           0|            NULL|               NULL|     NULL|     NULL|                  NULL|              NULL|           NULL|           2604007|             Carpina|         26|         PE|             0|             0|             0|             0|       NULL|       NULL|       NULL|       NULL|      NULL|      NULL|      NULL|      NULL|                NULL|                NULL|                NULL|                NULL|        1|                NULL|                NULL|                NULL|                NULL|             NULL|         NULL|         NULL|         NULL|         NULL|         NULL|           NULL|   H|   B|   F|   B|   3|   B|   A|   C|   D|   A|   A|   B|   A|   A|   A|   A|   A|   A|   B|   A|   A|   B|   A|   B|   B|\n",
      "|200001071590|  2020|              5|      F|              1|          3|               1|              1|              0|        1|     NULL|           0|            NULL|               NULL|     NULL|     NULL|                  NULL|              NULL|           NULL|           2800308|             Aracaju|         28|         SE|             0|             0|             0|             0|       NULL|       NULL|       NULL|       NULL|      NULL|      NULL|      NULL|      NULL|                NULL|                NULL|                NULL|                NULL|        1|                NULL|                NULL|                NULL|                NULL|             NULL|         NULL|         NULL|         NULL|         NULL|         NULL|           NULL|NULL|NULL|NULL|NULL|NULL|NULL|NULL|NULL|NULL|NULL|NULL|NULL|NULL|NULL|NULL|NULL|NULL|NULL|NULL|NULL|NULL|NULL|NULL|NULL|NULL|\n",
      "|200001934470|  2020|              7|      F|              1|          3|               1|              1|              4|        1|     NULL|           0|            NULL|               NULL|     NULL|     NULL|                  NULL|              NULL|           NULL|           2933307|Vit�ria da Conquista|         29|         BA|             0|             0|             0|             0|       NULL|       NULL|       NULL|       NULL|      NULL|      NULL|      NULL|      NULL|                NULL|                NULL|                NULL|                NULL|        1|                NULL|                NULL|                NULL|                NULL|             NULL|         NULL|         NULL|         NULL|         NULL|         NULL|           NULL|   A|   B|   F|   F|   3|   B|   A|   B|   C|   A|   A|   B|   B|   A|   A|   A|   A|   A|   B|   A|   A|   C|   A|   B|   B|\n",
      "|200006066678|  2020|              4|      M|              1|          1|               1|              1|              1|        1|     NULL|           0|            NULL|               NULL|     NULL|     NULL|                  NULL|              NULL|           NULL|           4106902|            Curitiba|         41|         PR|             0|             0|             0|             0|       NULL|       NULL|       NULL|       NULL|      NULL|      NULL|      NULL|      NULL|                NULL|                NULL|                NULL|                NULL|        0|                NULL|                NULL|                NULL|                NULL|             NULL|         NULL|         NULL|         NULL|         NULL|         NULL|           NULL|NULL|NULL|NULL|NULL|NULL|NULL|NULL|NULL|NULL|NULL|NULL|NULL|NULL|NULL|NULL|NULL|NULL|NULL|NULL|NULL|NULL|NULL|NULL|NULL|NULL|\n",
      "|200003343448|  2020|              7|      F|              1|          3|               1|              1|              3|        1|     NULL|           0|            NULL|               NULL|     NULL|     NULL|                  NULL|              NULL|           NULL|           2704302|              Macei�|         27|         AL|             1|             1|             1|             1|        597|        569|        580|        587|     422.4|     488.1|     559.1|     420.3|BDCEDABCECACBDCBB...|CAEADAEEDEDBDDCAB...|CADAA99999ABCBEBD...|BBCCDBEADABBE*CED...|        0|DDBACBDDDECDAEDCC...|DECCADEBDECBBECDD...|DCEAAEEEACAACBBEB...|DABCCAEDBBCCCABCA...|                1|          140|          180|          140|          160|          180|            800|   C|   C|   C|   B|   2|   B|   A|   B|   C|   A|   A|   B|   A|   A|   A|   A|   A|   A|   B|   B|   A|   C|   A|   B|   B|\n",
      "|200005966328|  2020|             13|      M|              1|          2|               1|              1|              0|        1|     NULL|           0|            NULL|               NULL|     NULL|     NULL|                  NULL|              NULL|           NULL|           1501402|               Bel�m|         15|         PA|             1|             1|             1|             1|        600|        570|        579|        589|     486.0|     503.3|     439.8|     405.6|DBEBBBCCDCBCAEBAE...|BABAEABBEDBDCDBBE...|99999EAADBDAABCBD...|BBAADDCCEABAAEBBA...|        1|DCDXDCCAEBADCBAAE...|BDDBECECBACDBDEEB...|AACDEEEECADBBCAAA...|BAECDBBXCCCBDBACC...|                1|          100|          100|          120|          100|           80|            500|   C|   D|   C|   C|   5|   D|   A|   C|   C|   A|   A|   B|   A|   A|   A|   A|   A|   A|   B|   B|   A|   C|   A|   A|   A|\n",
      "+------------+------+---------------+-------+---------------+-----------+----------------+---------------+---------------+---------+---------+------------+----------------+-------------------+---------+---------+----------------------+------------------+---------------+------------------+--------------------+-----------+-----------+--------------+--------------+--------------+--------------+-----------+-----------+-----------+-----------+----------+----------+----------+----------+--------------------+--------------------+--------------------+--------------------+---------+--------------------+--------------------+--------------------+--------------------+-----------------+-------------+-------------+-------------+-------------+-------------+---------------+----+----+----+----+----+----+----+----+----+----+----+----+----+----+----+----+----+----+----+----+----+----+----+----+----+\n",
      "only showing top 20 rows\n",
      "\n"
     ]
    }
   ],
   "source": [
    "# Visualiza os dados\n",
    "df_spark.show()"
   ]
  },
  {
   "cell_type": "code",
   "execution_count": 15,
   "metadata": {
    "colab": {
     "base_uri": "https://localhost:8080/"
    },
    "id": "lLR1WMTfO42i",
    "outputId": "e98a0c8d-550b-46af-eb84-9670cec7fd14"
   },
   "outputs": [
    {
     "name": "stdout",
     "output_type": "stream",
     "text": [
      "root\n",
      " |-- NU_INSCRICAO: long (nullable = true)\n",
      " |-- NU_ANO: integer (nullable = true)\n",
      " |-- TP_FAIXA_ETARIA: integer (nullable = true)\n",
      " |-- TP_SEXO: string (nullable = true)\n",
      " |-- TP_ESTADO_CIVIL: integer (nullable = true)\n",
      " |-- TP_COR_RACA: integer (nullable = true)\n",
      " |-- TP_NACIONALIDADE: integer (nullable = true)\n",
      " |-- TP_ST_CONCLUSAO: integer (nullable = true)\n",
      " |-- TP_ANO_CONCLUIU: integer (nullable = true)\n",
      " |-- TP_ESCOLA: integer (nullable = true)\n",
      " |-- TP_ENSINO: integer (nullable = true)\n",
      " |-- IN_TREINEIRO: integer (nullable = true)\n",
      " |-- CO_MUNICIPIO_ESC: integer (nullable = true)\n",
      " |-- NO_MUNICIPIO_ESC: string (nullable = true)\n",
      " |-- CO_UF_ESC: integer (nullable = true)\n",
      " |-- SG_UF_ESC: string (nullable = true)\n",
      " |-- TP_DEPENDENCIA_ADM_ESC: integer (nullable = true)\n",
      " |-- TP_LOCALIZACAO_ESC: integer (nullable = true)\n",
      " |-- TP_SIT_FUNC_ESC: integer (nullable = true)\n",
      " |-- CO_MUNICIPIO_PROVA: integer (nullable = true)\n",
      " |-- NO_MUNICIPIO_PROVA: string (nullable = true)\n",
      " |-- CO_UF_PROVA: integer (nullable = true)\n",
      " |-- SG_UF_PROVA: string (nullable = true)\n",
      " |-- TP_PRESENCA_CN: integer (nullable = true)\n",
      " |-- TP_PRESENCA_CH: integer (nullable = true)\n",
      " |-- TP_PRESENCA_LC: integer (nullable = true)\n",
      " |-- TP_PRESENCA_MT: integer (nullable = true)\n",
      " |-- CO_PROVA_CN: integer (nullable = true)\n",
      " |-- CO_PROVA_CH: integer (nullable = true)\n",
      " |-- CO_PROVA_LC: integer (nullable = true)\n",
      " |-- CO_PROVA_MT: integer (nullable = true)\n",
      " |-- NU_NOTA_CN: double (nullable = true)\n",
      " |-- NU_NOTA_CH: double (nullable = true)\n",
      " |-- NU_NOTA_LC: double (nullable = true)\n",
      " |-- NU_NOTA_MT: double (nullable = true)\n",
      " |-- TX_RESPOSTAS_CN: string (nullable = true)\n",
      " |-- TX_RESPOSTAS_CH: string (nullable = true)\n",
      " |-- TX_RESPOSTAS_LC: string (nullable = true)\n",
      " |-- TX_RESPOSTAS_MT: string (nullable = true)\n",
      " |-- TP_LINGUA: integer (nullable = true)\n",
      " |-- TX_GABARITO_CN: string (nullable = true)\n",
      " |-- TX_GABARITO_CH: string (nullable = true)\n",
      " |-- TX_GABARITO_LC: string (nullable = true)\n",
      " |-- TX_GABARITO_MT: string (nullable = true)\n",
      " |-- TP_STATUS_REDACAO: integer (nullable = true)\n",
      " |-- NU_NOTA_COMP1: integer (nullable = true)\n",
      " |-- NU_NOTA_COMP2: integer (nullable = true)\n",
      " |-- NU_NOTA_COMP3: integer (nullable = true)\n",
      " |-- NU_NOTA_COMP4: integer (nullable = true)\n",
      " |-- NU_NOTA_COMP5: integer (nullable = true)\n",
      " |-- NU_NOTA_REDACAO: integer (nullable = true)\n",
      " |-- Q001: string (nullable = true)\n",
      " |-- Q002: string (nullable = true)\n",
      " |-- Q003: string (nullable = true)\n",
      " |-- Q004: string (nullable = true)\n",
      " |-- Q005: integer (nullable = true)\n",
      " |-- Q006: string (nullable = true)\n",
      " |-- Q007: string (nullable = true)\n",
      " |-- Q008: string (nullable = true)\n",
      " |-- Q009: string (nullable = true)\n",
      " |-- Q010: string (nullable = true)\n",
      " |-- Q011: string (nullable = true)\n",
      " |-- Q012: string (nullable = true)\n",
      " |-- Q013: string (nullable = true)\n",
      " |-- Q014: string (nullable = true)\n",
      " |-- Q015: string (nullable = true)\n",
      " |-- Q016: string (nullable = true)\n",
      " |-- Q017: string (nullable = true)\n",
      " |-- Q018: string (nullable = true)\n",
      " |-- Q019: string (nullable = true)\n",
      " |-- Q020: string (nullable = true)\n",
      " |-- Q021: string (nullable = true)\n",
      " |-- Q022: string (nullable = true)\n",
      " |-- Q023: string (nullable = true)\n",
      " |-- Q024: string (nullable = true)\n",
      " |-- Q025: string (nullable = true)\n",
      "\n"
     ]
    }
   ],
   "source": [
    "# Visualiza os metadados (schema)\n",
    "df_spark.printSchema()"
   ]
  },
  {
   "cell_type": "code",
   "execution_count": 16,
   "metadata": {
    "colab": {
     "base_uri": "https://localhost:8080/"
    },
    "id": "sBjjtJ9kO-fO",
    "outputId": "cff87ea9-d91d-43ea-f30b-3b97990e55d2"
   },
   "outputs": [
    {
     "data": {
      "text/plain": [
       "5783109"
      ]
     },
     "execution_count": 16,
     "metadata": {},
     "output_type": "execute_result"
    }
   ],
   "source": [
    "# Verifica o número de linhas\n",
    "df_spark.count()"
   ]
  },
  {
   "cell_type": "markdown",
   "metadata": {},
   "source": [
    "## Data Wrangling com SparkSQL\n",
    "\n",
    "Filtragem para a obtenção das informações importantes e pertinentes para que se possa prosseguir."
   ]
  },
  {
   "cell_type": "code",
   "execution_count": 21,
   "metadata": {},
   "outputs": [
    {
     "name": "stdout",
     "output_type": "stream",
     "text": [
      "Valores nulos na tabela tabelaDesempenho:\n",
      "+------------+------------------+----------------+------+------------+--------------+--------------+--------------+--------------+----------+----------+----------+----------+-------------+-------------+-------------+-------------+-------------+---------------+\n",
      "|NU_INSCRICAO|CO_MUNICIPIO_PROVA|CO_MUNICIPIO_ESC|NU_ANO|IN_TREINEIRO|TP_PRESENCA_CN|TP_PRESENCA_CH|TP_PRESENCA_LC|TP_PRESENCA_MT|NU_NOTA_CN|NU_NOTA_CH|NU_NOTA_LC|NU_NOTA_MT|NU_NOTA_COMP1|NU_NOTA_COMP2|NU_NOTA_COMP3|NU_NOTA_COMP4|NU_NOTA_COMP5|NU_NOTA_REDACAO|\n",
      "+------------+------------------+----------------+------+------------+--------------+--------------+--------------+--------------+----------+----------+----------+----------+-------------+-------------+-------------+-------------+-------------+---------------+\n",
      "|           0|                 0|               0|     0|           0|             0|             0|             0|             0|   3185669|   3028969|   3028969|   3185669|      3028969|      3028969|      3028969|      3028969|      3028969|        3028969|\n",
      "+------------+------------------+----------------+------+------------+--------------+--------------+--------------+--------------+----------+----------+----------+----------+-------------+-------------+-------------+-------------+-------------+---------------+\n",
      "\n",
      "Valores nulos na tabela tabelaAluno:\n",
      "+------------+---------------+-------+---------------+-----------+----------------+\n",
      "|NU_INSCRICAO|TP_FAIXA_ETARIA|TP_SEXO|TP_ESTADO_CIVIL|TP_COR_RACA|TP_NACIONALIDADE|\n",
      "+------------+---------------+-------+---------------+-----------+----------------+\n",
      "|           0|              0|      0|              0|          0|               0|\n",
      "+------------+---------------+-------+---------------+-----------+----------------+\n",
      "\n",
      "Valores nulos na tabela tabelaEscola:\n",
      "+------------+----------------+----------------+---------+---------+---------------+---------------+---------+---------+----------------------+------------------+---------------+\n",
      "|NU_INSCRICAO|CO_MUNICIPIO_ESC|NO_MUNICIPIO_ESC|CO_UF_ESC|SG_UF_ESC|TP_ST_CONCLUSAO|TP_ANO_CONCLUIU|TP_ESCOLA|TP_ENSINO|TP_DEPENDENCIA_ADM_ESC|TP_LOCALIZACAO_ESC|TP_SIT_FUNC_ESC|\n",
      "+------------+----------------+----------------+---------+---------+---------------+---------------+---------+---------+----------------------+------------------+---------------+\n",
      "|           0|               0|               0|        0|        0|              0|              0|        0|        0|                     0|                 0|              0|\n",
      "+------------+----------------+----------------+---------+---------+---------------+---------------+---------+---------+----------------------+------------------+---------------+\n",
      "\n",
      "Valores nulos na tabela tabelaProva:\n",
      "+------------+------------------+------------------+-----------+-----------+---------+\n",
      "|NU_INSCRICAO|CO_MUNICIPIO_PROVA|NO_MUNICIPIO_PROVA|CO_UF_PROVA|SG_UF_PROVA|TP_LINGUA|\n",
      "+------------+------------------+------------------+-----------+-----------+---------+\n",
      "|           0|                 0|                 0|          0|          0|        0|\n",
      "+------------+------------------+------------------+-----------+-----------+---------+\n",
      "\n",
      "Processamento e modelagem concluídos!\n"
     ]
    }
   ],
   "source": [
    "from pyspark.sql import functions as F\n",
    "from pyspark.sql.functions import col, when\n",
    "\n",
    "## --------------------------------------------------- ##\n",
    "# Funções Auxiliares\n",
    "def tratar_valores_nulos(df_spark, colunas, valor_substituicao=0):\n",
    "    \"\"\"\n",
    "    Substitui valores nulos em colunas específicas por um valor padrão.\n",
    "    \"\"\"\n",
    "    for coluna in colunas:\n",
    "        df_spark = df_spark.withColumn(coluna, when(col(coluna).isNull(), valor_substituicao).otherwise(col(coluna)))\n",
    "    return df_spark\n",
    "\n",
    "\n",
    "def substituir_valores(df_spark, substituicoes):\n",
    "    \"\"\"\n",
    "    Substitui valores entre colunas de origem e destino conforme um mapeamento.\n",
    "    \"\"\"\n",
    "    for destino, origem in substituicoes.items():\n",
    "        df_spark = df_spark.withColumn(destino, when(col(origem).isNotNull(), col(origem)).otherwise(col(destino)))\n",
    "    return df_spark\n",
    "\n",
    "\n",
    "def verificar_nulos(tabela):\n",
    "    \"\"\"\n",
    "    Verifica e exibe a contagem de valores nulos por coluna.\n",
    "    \"\"\"\n",
    "    null_counts = tabela.select([F.count(F.when(col(c).isNull(), c)).alias(c) for c in tabela.columns])\n",
    "    null_counts.show()\n",
    "\n",
    "\n",
    "## --------------------------------------------------- ##\n",
    "# Pré-processamento\n",
    "# Definições de Colunas e Regras\n",
    "colunas_a_tratar = ['TP_ENSINO', 'TP_DEPENDENCIA_ADM_ESC', 'TP_LOCALIZACAO_ESC', 'TP_SIT_FUNC_ESC']\n",
    "substituicoes_relacionadas = {\n",
    "    \"CO_MUNICIPIO_ESC\": \"CO_MUNICIPIO_PROVA\",\n",
    "    \"NO_MUNICIPIO_ESC\": \"NO_MUNICIPIO_PROVA\",\n",
    "    \"CO_UF_ESC\": \"CO_UF_PROVA\",\n",
    "    \"SG_UF_ESC\": \"SG_UF_PROVA\"\n",
    "}\n",
    "\n",
    "# Tratando valores nulos\n",
    "df_spark = tratar_valores_nulos(df_spark, colunas_a_tratar, valor_substituicao=0)\n",
    "df_spark = substituir_valores(df_spark, substituicoes_relacionadas)\n",
    "\n",
    "## --------------------------------------------------- ##\n",
    "# Modelagem Dimensional\n",
    "# Listas de Colunas para as Tabelas\n",
    "tabelas_modelagem = {\n",
    "    \"tabelaDesempenho\": [\n",
    "        'NU_INSCRICAO', 'CO_MUNICIPIO_PROVA', 'CO_MUNICIPIO_ESC', 'NU_ANO', 'IN_TREINEIRO',\n",
    "        'TP_PRESENCA_CN', 'TP_PRESENCA_CH', 'TP_PRESENCA_LC', 'TP_PRESENCA_MT',\n",
    "        'NU_NOTA_CN', 'NU_NOTA_CH', 'NU_NOTA_LC', 'NU_NOTA_MT',\n",
    "        'NU_NOTA_COMP1', 'NU_NOTA_COMP2', 'NU_NOTA_COMP3', 'NU_NOTA_COMP4', 'NU_NOTA_COMP5',\n",
    "        'NU_NOTA_REDACAO'\n",
    "    ],\n",
    "    \"tabelaAluno\": [\n",
    "        'NU_INSCRICAO', 'TP_FAIXA_ETARIA', 'TP_SEXO', 'TP_ESTADO_CIVIL', 'TP_COR_RACA', 'TP_NACIONALIDADE'\n",
    "    ],\n",
    "    \"tabelaEscola\": [\n",
    "        'NU_INSCRICAO', 'CO_MUNICIPIO_ESC', 'NO_MUNICIPIO_ESC', 'CO_UF_ESC', 'SG_UF_ESC',\n",
    "        'TP_ST_CONCLUSAO', 'TP_ANO_CONCLUIU', 'TP_ESCOLA', 'TP_ENSINO',\n",
    "        'TP_DEPENDENCIA_ADM_ESC', 'TP_LOCALIZACAO_ESC', 'TP_SIT_FUNC_ESC'\n",
    "    ],\n",
    "    \"tabelaProva\": [\n",
    "        'NU_INSCRICAO', 'CO_MUNICIPIO_PROVA', 'NO_MUNICIPIO_PROVA', 'CO_UF_PROVA', 'SG_UF_PROVA', 'TP_LINGUA'\n",
    "    ]\n",
    "}\n",
    "\n",
    "# Criando as tabelas e registrando-as como views temporárias\n",
    "for nome, colunas in tabelas_modelagem.items():\n",
    "    df_temp = df_spark.select(colunas)\n",
    "    globals()[nome] = df_temp  # Cria a variável com o nome da tabela\n",
    "    df_temp.createOrReplaceTempView(nome)  # Registra como view temporária\n",
    "\n",
    "# Verificando nulos em cada tabela\n",
    "for nome in tabelas_modelagem.keys():\n",
    "    print(f\"Valores nulos na tabela {nome}:\")\n",
    "    verificar_nulos(globals()[nome])\n",
    "\n",
    "## --------------------------------------------------- ##\n",
    "# Conclusão\n",
    "print(\"Processamento e modelagem concluídos!\")"
   ]
  },
  {
   "cell_type": "code",
   "execution_count": 22,
   "metadata": {},
   "outputs": [
    {
     "ename": "NameError",
     "evalue": "name 'spark' is not defined",
     "output_type": "error",
     "traceback": [
      "\u001b[1;31m---------------------------------------------------------------------------\u001b[0m",
      "\u001b[1;31mNameError\u001b[0m                                 Traceback (most recent call last)",
      "Cell \u001b[1;32mIn[22], line 4\u001b[0m\n\u001b[0;32m      1\u001b[0m \u001b[38;5;66;03m# Consultas SQL nas tabelas usando spark.sql()\u001b[39;00m\n\u001b[0;32m      2\u001b[0m \n\u001b[0;32m      3\u001b[0m \u001b[38;5;66;03m# Exemplo de consulta SQL para verificar o conteúdo da tabelaAluno\u001b[39;00m\n\u001b[1;32m----> 4\u001b[0m resultado_tabela_aluno \u001b[38;5;241m=\u001b[39m \u001b[43mspark\u001b[49m\u001b[38;5;241m.\u001b[39msql(\u001b[38;5;124m\"\u001b[39m\u001b[38;5;124mSELECT * FROM tabelaAluno LIMIT 5\u001b[39m\u001b[38;5;124m\"\u001b[39m)\n\u001b[0;32m      5\u001b[0m resultado_tabela_aluno\u001b[38;5;241m.\u001b[39mshow()\n\u001b[0;32m      7\u001b[0m \u001b[38;5;66;03m# Exemplo de consulta SQL para verificar a tabelaEscola com uma condição\u001b[39;00m\n",
      "\u001b[1;31mNameError\u001b[0m: name 'spark' is not defined"
     ]
    }
   ],
   "source": [
    "# Consultas SQL nas tabelas usando spark.sql()\n",
    "\n",
    "# Exemplo de consulta SQL para verificar o conteúdo da tabelaAluno\n",
    "resultado_tabela_aluno = spark.sql(\"SELECT * FROM tabelaAluno LIMIT 5\")\n",
    "resultado_tabela_aluno.show()\n",
    "\n",
    "# Exemplo de consulta SQL para verificar a tabelaEscola com uma condição\n",
    "resultado_tabela_escola = spark.sql(\"SELECT * FROM tabelaEscola WHERE TP_ESCOLA = 'Pública'\")\n",
    "resultado_tabela_escola.show()\n",
    "\n",
    "# Exemplo de consulta SQL para verificar o desempenho de alunos com nota CN maior que 500\n",
    "resultado_desempenho = spark.sql(\"SELECT NU_INSCRICAO, NU_NOTA_CN FROM tabelaDesempenho WHERE NU_NOTA_CN > 500\")\n",
    "resultado_desempenho.show()\n"
   ]
  },
  {
   "cell_type": "code",
   "execution_count": null,
   "metadata": {},
   "outputs": [],
   "source": [
    "## ANALISE DE DADOS, MODELAGEM E ETL UTILIZANDO \"APACHE SPARK\" ##\n",
    "\n",
    "# from pyspark.sql import functions as F\n",
    "# from pyspark.sql.functions import col, when\n",
    "\n",
    "# ## --------------------------------------------------- ##\n",
    "# # Funções Auxiliares\n",
    "# def tratar_valores_nulos(df_spark, colunas, valor_substituicao=0):\n",
    "#     \"\"\"\n",
    "#     Substitui valores nulos em colunas específicas por um valor padrão.\n",
    "#     \"\"\"\n",
    "#     for coluna in colunas:\n",
    "#         df_spark = df_spark.withColumn(coluna, when(col(coluna).isNull(), valor_substituicao).otherwise(col(coluna)))\n",
    "#     return df_spark\n",
    "\n",
    "\n",
    "# def substituir_valores(df_spark, substituicoes):\n",
    "#     \"\"\"\n",
    "#     Substitui valores entre colunas de origem e destino conforme um mapeamento.\n",
    "#     \"\"\"\n",
    "#     for destino, origem in substituicoes.items():\n",
    "#         df_spark = df_spark.withColumn(destino, when(col(origem).isNotNull(), col(origem)).otherwise(col(destino)))\n",
    "#     return df_spark\n",
    "\n",
    "\n",
    "# def verificar_nulos(tabela):\n",
    "#     \"\"\"\n",
    "#     Verifica e exibe a contagem de valores nulos por coluna.\n",
    "#     \"\"\"\n",
    "#     null_counts = tabela.select([F.count(F.when(col(c).isNull(), c)).alias(c) for c in tabela.columns])\n",
    "#     null_counts.show()\n",
    "\n",
    "\n",
    "# ## --------------------------------------------------- ##\n",
    "# # Pré-processamento\n",
    "# # Definições de Colunas e Regras\n",
    "# colunas_a_tratar = ['TP_ENSINO', 'TP_DEPENDENCIA_ADM_ESC', 'TP_LOCALIZACAO_ESC', 'TP_SIT_FUNC_ESC']\n",
    "# substituicoes_relacionadas = {\n",
    "#     \"CO_MUNICIPIO_ESC\": \"CO_MUNICIPIO_PROVA\",\n",
    "#     \"NO_MUNICIPIO_ESC\": \"NO_MUNICIPIO_PROVA\",\n",
    "#     \"CO_UF_ESC\": \"CO_UF_PROVA\",\n",
    "#     \"SG_UF_ESC\": \"SG_UF_PROVA\"\n",
    "# }\n",
    "\n",
    "# # Tratando valores nulos\n",
    "# df_spark = tratar_valores_nulos(df_spark, colunas_a_tratar, valor_substituicao=0)\n",
    "# df_spark = substituir_valores(df_spark, substituicoes_relacionadas)\n",
    "\n",
    "# # Substituindo valores relacionados a presença e notas\n",
    "# # presenca_notas = {\n",
    "# #     'NU_NOTA_CN': 'TP_PRESENCA_CN',\n",
    "# #     'NU_NOTA_CH': 'TP_PRESENCA_CH',\n",
    "# #     'NU_NOTA_MT': 'TP_PRESENCA_MT',\n",
    "# #     'NU_NOTA_LC': 'TP_PRESENCA_LC'\n",
    "# # }\n",
    "# # for nota, presenca in presenca_notas.items():\n",
    "# #     df_spark = df_spark.withColumn(nota, when(col(presenca).isNull(), 'NAO_COMPARECEU').otherwise(col(nota)))\n",
    "\n",
    "# ## --------------------------------------------------- ##\n",
    "# # Modelagem Dimensional\n",
    "# # Listas de Colunas para as Tabelas\n",
    "# tabelas_modelagem = {\n",
    "#     \"tabelaDesempenho\": [\n",
    "#         'NU_INSCRICAO', 'CO_MUNICIPIO_PROVA', 'CO_MUNICIPIO_ESC', 'NU_ANO', 'IN_TREINEIRO',\n",
    "#         'TP_PRESENCA_CN', 'TP_PRESENCA_CH', 'TP_PRESENCA_LC', 'TP_PRESENCA_MT',\n",
    "#         'NU_NOTA_CN', 'NU_NOTA_CH', 'NU_NOTA_LC', 'NU_NOTA_MT',\n",
    "#         'NU_NOTA_COMP1', 'NU_NOTA_COMP2', 'NU_NOTA_COMP3', 'NU_NOTA_COMP4', 'NU_NOTA_COMP5',\n",
    "#         'NU_NOTA_REDACAO'\n",
    "#     ],\n",
    "#     \"tabelaAluno\": [\n",
    "#         'NU_INSCRICAO', 'TP_FAIXA_ETARIA', 'TP_SEXO', 'TP_ESTADO_CIVIL', 'TP_COR_RACA', 'TP_NACIONALIDADE'\n",
    "#     ],\n",
    "#     \"tabelaEscola\": [\n",
    "#         'NU_INSCRICAO', 'CO_MUNICIPIO_ESC', 'NO_MUNICIPIO_ESC', 'CO_UF_ESC', 'SG_UF_ESC',\n",
    "#         'TP_ST_CONCLUSAO', 'TP_ANO_CONCLUIU', 'TP_ESCOLA', 'TP_ENSINO',\n",
    "#         'TP_DEPENDENCIA_ADM_ESC', 'TP_LOCALIZACAO_ESC', 'TP_SIT_FUNC_ESC'\n",
    "#     ],\n",
    "#     \"tabelaProva\": [\n",
    "#         'NU_INSCRICAO', 'CO_MUNICIPIO_PROVA', 'NO_MUNICIPIO_PROVA', 'CO_UF_PROVA', 'SG_UF_PROVA', 'TP_LINGUA'\n",
    "#     ]\n",
    "# }\n",
    "\n",
    "# # Criando as tabelas\n",
    "# for nome, colunas in tabelas_modelagem.items():\n",
    "#     globals()[nome] = df_spark.select(colunas)\n",
    "\n",
    "# # Verificando nulos em cada tabela\n",
    "# for nome in tabelas_modelagem.keys():\n",
    "#     print(f\"Valores nulos na tabela {nome}:\")\n",
    "#     verificar_nulos(globals()[nome])\n",
    "\n",
    "# ## --------------------------------------------------- ##\n",
    "# # Conclusão\n",
    "# print(\"Processamento e modelagem concluídos!\")\n"
   ]
  },
  {
   "cell_type": "code",
   "execution_count": null,
   "metadata": {},
   "outputs": [],
   "source": [
    "df_spark.show(20)"
   ]
  },
  {
   "cell_type": "code",
   "execution_count": 23,
   "metadata": {},
   "outputs": [],
   "source": [
    "# Cria uma tabela temporária a partir do dataframe\n",
    "# As tabelas temporárias são úteis quando você deseja que o conjunto de resultados fique visível \n",
    "# para todas as outras sessões Spark\n",
    "df_spark.createOrReplaceTempView('dados_enem') "
   ]
  },
  {
   "cell_type": "code",
   "execution_count": 24,
   "metadata": {},
   "outputs": [],
   "source": [
    "# Executa uma consulta SQL\n",
    "df_enem = spark_session.sql(\"select * from dados_enem\")"
   ]
  },
  {
   "cell_type": "code",
   "execution_count": 25,
   "metadata": {},
   "outputs": [
    {
     "data": {
      "text/plain": [
       "pyspark.sql.dataframe.DataFrame"
      ]
     },
     "execution_count": 25,
     "metadata": {},
     "output_type": "execute_result"
    }
   ],
   "source": [
    "type(df_enem)"
   ]
  },
  {
   "cell_type": "code",
   "execution_count": 26,
   "metadata": {},
   "outputs": [
    {
     "name": "stdout",
     "output_type": "stream",
     "text": [
      "+------------+------+---------------+-------+---------------+-----------+----------------+---------------+---------------+---------+---------+------------+----------------+--------------------+---------+---------+----------------------+------------------+---------------+------------------+--------------------+-----------+-----------+--------------+--------------+--------------+--------------+-----------+-----------+-----------+-----------+----------+----------+----------+----------+--------------------+--------------------+--------------------+--------------------+---------+--------------------+--------------------+--------------------+--------------------+-----------------+-------------+-------------+-------------+-------------+-------------+---------------+----+----+----+----+----+----+----+----+----+----+----+----+----+----+----+----+----+----+----+----+----+----+----+----+----+\n",
      "|NU_INSCRICAO|NU_ANO|TP_FAIXA_ETARIA|TP_SEXO|TP_ESTADO_CIVIL|TP_COR_RACA|TP_NACIONALIDADE|TP_ST_CONCLUSAO|TP_ANO_CONCLUIU|TP_ESCOLA|TP_ENSINO|IN_TREINEIRO|CO_MUNICIPIO_ESC|    NO_MUNICIPIO_ESC|CO_UF_ESC|SG_UF_ESC|TP_DEPENDENCIA_ADM_ESC|TP_LOCALIZACAO_ESC|TP_SIT_FUNC_ESC|CO_MUNICIPIO_PROVA|  NO_MUNICIPIO_PROVA|CO_UF_PROVA|SG_UF_PROVA|TP_PRESENCA_CN|TP_PRESENCA_CH|TP_PRESENCA_LC|TP_PRESENCA_MT|CO_PROVA_CN|CO_PROVA_CH|CO_PROVA_LC|CO_PROVA_MT|NU_NOTA_CN|NU_NOTA_CH|NU_NOTA_LC|NU_NOTA_MT|     TX_RESPOSTAS_CN|     TX_RESPOSTAS_CH|     TX_RESPOSTAS_LC|     TX_RESPOSTAS_MT|TP_LINGUA|      TX_GABARITO_CN|      TX_GABARITO_CH|      TX_GABARITO_LC|      TX_GABARITO_MT|TP_STATUS_REDACAO|NU_NOTA_COMP1|NU_NOTA_COMP2|NU_NOTA_COMP3|NU_NOTA_COMP4|NU_NOTA_COMP5|NU_NOTA_REDACAO|Q001|Q002|Q003|Q004|Q005|Q006|Q007|Q008|Q009|Q010|Q011|Q012|Q013|Q014|Q015|Q016|Q017|Q018|Q019|Q020|Q021|Q022|Q023|Q024|Q025|\n",
      "+------------+------+---------------+-------+---------------+-----------+----------------+---------------+---------------+---------+---------+------------+----------------+--------------------+---------+---------+----------------------+------------------+---------------+------------------+--------------------+-----------+-----------+--------------+--------------+--------------+--------------+-----------+-----------+-----------+-----------+----------+----------+----------+----------+--------------------+--------------------+--------------------+--------------------+---------+--------------------+--------------------+--------------------+--------------------+-----------------+-------------+-------------+-------------+-------------+-------------+---------------+----+----+----+----+----+----+----+----+----+----+----+----+----+----+----+----+----+----+----+----+----+----+----+----+----+\n",
      "|200006271946|  2020|             11|      F|              1|          2|               1|              1|             11|        1|        0|           0|         1501402|               Bel�m|       15|       PA|                     0|                 0|              0|           1501402|               Bel�m|         15|         PA|             0|             0|             0|             0|       NULL|       NULL|       NULL|       NULL|      NULL|      NULL|      NULL|      NULL|                NULL|                NULL|                NULL|                NULL|        1|                NULL|                NULL|                NULL|                NULL|             NULL|         NULL|         NULL|         NULL|         NULL|         NULL|           NULL|NULL|NULL|NULL|NULL|NULL|NULL|NULL|NULL|NULL|NULL|NULL|NULL|NULL|NULL|NULL|NULL|NULL|NULL|NULL|NULL|NULL|NULL|NULL|NULL|NULL|\n",
      "|200001195856|  2020|             11|      M|              2|          3|               1|              1|             11|        1|        0|           0|         2408102|               Natal|       24|       RN|                     0|                 0|              0|           2408102|               Natal|         24|         RN|             1|             1|             1|             1|        702|        689|        693|        698|     604.1|     661.7|     595.3|     711.3|BCBDBDCCCDBDDBADE...|BCAECABCDCEBDBBBD...|99999CADDEDADBAAB...|EBEBDEDAECBADCADD...|        1|ABBACBCCCDDDDBAEE...|BCEECDBCCDEBDBBBB...|99999CBDDEDBDBACE...|BBEADECAECBBXCEBA...|                1|          120|          120|          120|          120|          100|            580|NULL|NULL|NULL|NULL|NULL|NULL|NULL|NULL|NULL|NULL|NULL|NULL|NULL|NULL|NULL|NULL|NULL|NULL|NULL|NULL|NULL|NULL|NULL|NULL|NULL|\n",
      "|200001943954|  2020|              4|      F|              2|          3|               2|              2|              0|        2|        1|           0|         2927408|            Salvador|       29|       BA|                     2|                 1|              1|           2927408|            Salvador|         29|         BA|             0|             0|             0|             0|       NULL|       NULL|       NULL|       NULL|      NULL|      NULL|      NULL|      NULL|                NULL|                NULL|                NULL|                NULL|        0|                NULL|                NULL|                NULL|                NULL|             NULL|         NULL|         NULL|         NULL|         NULL|         NULL|           NULL|   B|   C|   A|   D|   3|   B|   A|   B|   A|   A|   A|   B|   A|   B|   A|   B|   A|   A|   B|   A|   A|   A|   A|   A|   A|\n",
      "|200001908998|  2020|              2|      M|              1|          3|               1|              2|              0|        2|        1|           0|         3547304| Santana de Parna�ba|       35|       SP|                     3|                 1|              1|           3547304| Santana de Parna�ba|         35|         SP|             1|             1|             1|             1|        700|        688|        692|        696|     620.8|     675.0|     624.2|     759.4|EBEDCCCDCBDBAECAE...|DABCCACCBCCDCADBD...|DCEAB99999AADAECC...|CBDBDCCDDEECBAABB...|        0|BDECCACBEBDEAEDAE...|DABCCAECBABECADBD...|DCEAD99999AADACCC...|EBDBXCCDAEECBAABA...|                1|          140|          200|          140|          120|          160|            760|NULL|NULL|NULL|NULL|NULL|NULL|NULL|NULL|NULL|NULL|NULL|NULL|NULL|NULL|NULL|NULL|NULL|NULL|NULL|NULL|NULL|NULL|NULL|NULL|NULL|\n",
      "|200001634757|  2020|              4|      F|              1|          3|               2|              1|              1|        1|        0|           0|         3121605|          Diamantina|       31|       MG|                     0|                 0|              0|           3121605|          Diamantina|         31|         MG|             0|             0|             0|             0|       NULL|       NULL|       NULL|       NULL|      NULL|      NULL|      NULL|      NULL|                NULL|                NULL|                NULL|                NULL|        1|                NULL|                NULL|                NULL|                NULL|             NULL|         NULL|         NULL|         NULL|         NULL|         NULL|           NULL|   B|   G|   B|   B|   3|   B|   A|   B|   D|   A|   A|   B|   A|   B|   A|   A|   A|   A|   B|   A|   B|   B|   A|   A|   B|\n",
      "|200003132410|  2020|              3|      F|              1|          3|               1|              1|              1|        1|        0|           0|         4305207|         Cerro Largo|       43|       RS|                     0|                 0|              0|           4305207|         Cerro Largo|         43|         RS|             1|             1|             1|             1|        598|        567|        577|        588|     498.1|     604.7|     505.4|     526.7|CABBEEACAEBEBCCDA...|ACEBBDDCADDAACEEA...|99999CBECEBEDBEEC...|BADCAAAEEDBEDBACE...|        1|CEDBDDDCACCBDAEBA...|DABCBDDDAEDBECECB...|AAEDCACEEECEAACBA...|AEBCCXCCCACCDABCC...|                1|          140|          120|          140|          140|          160|            700|   C|   B|   C|   B|   5|   C|   A|   B|   E|   A|   A|   B|   A|   A|   A|   B|   A|   A|   B|   B|   A|   D|   A|   B|   B|\n",
      "|200001379770|  2020|              9|      M|              1|          3|               1|              1|              6|        1|        0|           0|         2611606|              Recife|       26|       PE|                     0|                 0|              0|           2611606|              Recife|         26|         PE|             0|             0|             0|             0|       NULL|       NULL|       NULL|       NULL|      NULL|      NULL|      NULL|      NULL|                NULL|                NULL|                NULL|                NULL|        0|                NULL|                NULL|                NULL|                NULL|             NULL|         NULL|         NULL|         NULL|         NULL|         NULL|           NULL|NULL|NULL|NULL|NULL|NULL|NULL|NULL|NULL|NULL|NULL|NULL|NULL|NULL|NULL|NULL|NULL|NULL|NULL|NULL|NULL|NULL|NULL|NULL|NULL|NULL|\n",
      "|200001334237|  2020|              4|      M|              1|          1|               1|              1|              1|        1|        0|           0|         3550308|           S�o Paulo|       35|       SP|                     0|                 0|              0|           3550308|           S�o Paulo|         35|         SP|             1|             1|             1|             1|        699|        687|        691|        695|     604.6|     604.8|     562.1|     753.2|CECACBBCADACADDEE...|EAADABBEABCADDBAA...|CADDE99999AEEADBA...|BABADDBDAEBAEBBBE...|        0|DEAAECBBCDCBAEBEE...|EAAADBBEDBDACDBCC...|CADDE99999DEBBBBB...|BABBDABAEEBACBACD...|                1|          140|          120|          120|          120|          100|            600|NULL|NULL|NULL|NULL|NULL|NULL|NULL|NULL|NULL|NULL|NULL|NULL|NULL|NULL|NULL|NULL|NULL|NULL|NULL|NULL|NULL|NULL|NULL|NULL|NULL|\n",
      "|200006762554|  2020|              5|      F|              2|          3|               1|              1|              3|        1|        0|           0|         2507507|         Jo�o Pessoa|       25|       PB|                     0|                 0|              0|           2507507|         Jo�o Pessoa|         25|         PB|             1|             1|             1|             1|        598|        567|        577|        588|     439.7|     383.5|     486.2|     448.5|DABCDCAEDEDCBEDCD...|ECCAEAEACDDABCBDA...|99999DDCBBABECCAC...|EEDCCEACEBAAAADCD...|        1|CEDBDDDCACCBDAEBA...|DABCBDDDAEDBECECB...|AAEDCACEEECEAACBA...|AEBCCXCCCACCDABCC...|                1|          120|          120|          120|          140|          100|            600|   B|   C|   C|   B|   2|   B|   A|   B|   C|   A|   A|   B|   A|   B|   A|   A|   A|   A|   B|   A|   A|   C|   A|   A|   A|\n",
      "|200005146210|  2020|              2|      M|              1|          2|               1|              2|              0|        2|        1|           0|         2304400|           Fortaleza|       23|       CE|                     0|                 0|              0|           2304400|           Fortaleza|         23|         CE|             0|             0|             0|             0|       NULL|       NULL|       NULL|       NULL|      NULL|      NULL|      NULL|      NULL|                NULL|                NULL|                NULL|                NULL|        0|                NULL|                NULL|                NULL|                NULL|             NULL|         NULL|         NULL|         NULL|         NULL|         NULL|           NULL|   A|   A|   B|   A|   4|   B|   A|   B|   B|   A|   A|   B|   A|   A|   A|   A|   A|   A|   B|   A|   A|   A|   A|   A|   B|\n",
      "|200004902048|  2020|              6|      M|              1|          1|               1|              1|              3|        1|        0|           0|         3550308|           S�o Paulo|       35|       SP|                     0|                 0|              0|           3550308|           S�o Paulo|         35|         SP|             0|             0|             0|             0|       NULL|       NULL|       NULL|       NULL|      NULL|      NULL|      NULL|      NULL|                NULL|                NULL|                NULL|                NULL|        0|                NULL|                NULL|                NULL|                NULL|             NULL|         NULL|         NULL|         NULL|         NULL|         NULL|           NULL|   B|   B|   B|   B|   7|   B|   A|   B|   C|   A|   A|   B|   A|   A|   A|   B|   A|   A|   B|   A|   A|   C|   B|   B|   B|\n",
      "|200006138472|  2020|              7|      M|              1|          1|               1|              1|              0|        1|        0|           0|         2910727|           Eun�polis|       29|       BA|                     0|                 0|              0|           2910727|           Eun�polis|         29|         BA|             1|             1|             1|             1|        598|        567|        577|        588|     491.1|     631.4|     627.9|     546.5|BAEACEDBACDDEDECE...|CDEABDDDABDBEABCA...|AACDC99999ABDBEDA...|EBCDBEBABDBBDABCB...|        0|CEDBDDDCACCBDAEBA...|DABCBDDDAEDBECECB...|AAEDCACEEECEAACBA...|AEBCCXCCCACCDABCC...|                1|          140|          120|          140|          120|          120|            640|   B|   C|   C|   B|   5|   B|   A|   B|   C|   A|   A|   B|   A|   A|   A|   A|   B|   A|   B|   A|   A|   C|   A|   B|   B|\n",
      "|200005613689|  2020|              3|      F|              1|          3|               1|              1|              1|        1|        0|           0|         5008305|         Tr�s Lagoas|       50|       MS|                     0|                 0|              0|           5008305|         Tr�s Lagoas|         50|         MS|             0|             0|             0|             0|       NULL|       NULL|       NULL|       NULL|      NULL|      NULL|      NULL|      NULL|                NULL|                NULL|                NULL|                NULL|        0|                NULL|                NULL|                NULL|                NULL|             NULL|         NULL|         NULL|         NULL|         NULL|         NULL|           NULL|   D|   E|   A|   A|   3|   B|   A|   B|   C|   A|   A|   B|   A|   A|   A|   A|   A|   A|   A|   A|   A|   C|   A|   A|   A|\n",
      "|200004833505|  2020|             11|      F|              2|          2|               1|              1|             12|        1|        0|           0|         3547809|         Santo Andr�|       35|       SP|                     0|                 0|              0|           3547809|         Santo Andr�|         35|         SP|             0|             0|             0|             0|       NULL|       NULL|       NULL|       NULL|      NULL|      NULL|      NULL|      NULL|                NULL|                NULL|                NULL|                NULL|        1|                NULL|                NULL|                NULL|                NULL|             NULL|         NULL|         NULL|         NULL|         NULL|         NULL|           NULL|NULL|NULL|NULL|NULL|NULL|NULL|NULL|NULL|NULL|NULL|NULL|NULL|NULL|NULL|NULL|NULL|NULL|NULL|NULL|NULL|NULL|NULL|NULL|NULL|NULL|\n",
      "|200004570764|  2020|             11|      M|              1|          2|               1|              1|              0|        1|        0|           0|         2604007|             Carpina|       26|       PE|                     0|                 0|              0|           2604007|             Carpina|         26|         PE|             0|             0|             0|             0|       NULL|       NULL|       NULL|       NULL|      NULL|      NULL|      NULL|      NULL|                NULL|                NULL|                NULL|                NULL|        1|                NULL|                NULL|                NULL|                NULL|             NULL|         NULL|         NULL|         NULL|         NULL|         NULL|           NULL|   H|   B|   F|   B|   3|   B|   A|   C|   D|   A|   A|   B|   A|   A|   A|   A|   A|   A|   B|   A|   A|   B|   A|   B|   B|\n",
      "|200001071590|  2020|              5|      F|              1|          3|               1|              1|              0|        1|        0|           0|         2800308|             Aracaju|       28|       SE|                     0|                 0|              0|           2800308|             Aracaju|         28|         SE|             0|             0|             0|             0|       NULL|       NULL|       NULL|       NULL|      NULL|      NULL|      NULL|      NULL|                NULL|                NULL|                NULL|                NULL|        1|                NULL|                NULL|                NULL|                NULL|             NULL|         NULL|         NULL|         NULL|         NULL|         NULL|           NULL|NULL|NULL|NULL|NULL|NULL|NULL|NULL|NULL|NULL|NULL|NULL|NULL|NULL|NULL|NULL|NULL|NULL|NULL|NULL|NULL|NULL|NULL|NULL|NULL|NULL|\n",
      "|200001934470|  2020|              7|      F|              1|          3|               1|              1|              4|        1|        0|           0|         2933307|Vit�ria da Conquista|       29|       BA|                     0|                 0|              0|           2933307|Vit�ria da Conquista|         29|         BA|             0|             0|             0|             0|       NULL|       NULL|       NULL|       NULL|      NULL|      NULL|      NULL|      NULL|                NULL|                NULL|                NULL|                NULL|        1|                NULL|                NULL|                NULL|                NULL|             NULL|         NULL|         NULL|         NULL|         NULL|         NULL|           NULL|   A|   B|   F|   F|   3|   B|   A|   B|   C|   A|   A|   B|   B|   A|   A|   A|   A|   A|   B|   A|   A|   C|   A|   B|   B|\n",
      "|200006066678|  2020|              4|      M|              1|          1|               1|              1|              1|        1|        0|           0|         4106902|            Curitiba|       41|       PR|                     0|                 0|              0|           4106902|            Curitiba|         41|         PR|             0|             0|             0|             0|       NULL|       NULL|       NULL|       NULL|      NULL|      NULL|      NULL|      NULL|                NULL|                NULL|                NULL|                NULL|        0|                NULL|                NULL|                NULL|                NULL|             NULL|         NULL|         NULL|         NULL|         NULL|         NULL|           NULL|NULL|NULL|NULL|NULL|NULL|NULL|NULL|NULL|NULL|NULL|NULL|NULL|NULL|NULL|NULL|NULL|NULL|NULL|NULL|NULL|NULL|NULL|NULL|NULL|NULL|\n",
      "|200003343448|  2020|              7|      F|              1|          3|               1|              1|              3|        1|        0|           0|         2704302|              Macei�|       27|       AL|                     0|                 0|              0|           2704302|              Macei�|         27|         AL|             1|             1|             1|             1|        597|        569|        580|        587|     422.4|     488.1|     559.1|     420.3|BDCEDABCECACBDCBB...|CAEADAEEDEDBDDCAB...|CADAA99999ABCBEBD...|BBCCDBEADABBE*CED...|        0|DDBACBDDDECDAEDCC...|DECCADEBDECBBECDD...|DCEAAEEEACAACBBEB...|DABCCAEDBBCCCABCA...|                1|          140|          180|          140|          160|          180|            800|   C|   C|   C|   B|   2|   B|   A|   B|   C|   A|   A|   B|   A|   A|   A|   A|   A|   A|   B|   B|   A|   C|   A|   B|   B|\n",
      "|200005966328|  2020|             13|      M|              1|          2|               1|              1|              0|        1|        0|           0|         1501402|               Bel�m|       15|       PA|                     0|                 0|              0|           1501402|               Bel�m|         15|         PA|             1|             1|             1|             1|        600|        570|        579|        589|     486.0|     503.3|     439.8|     405.6|DBEBBBCCDCBCAEBAE...|BABAEABBEDBDCDBBE...|99999EAADBDAABCBD...|BBAADDCCEABAAEBBA...|        1|DCDXDCCAEBADCBAAE...|BDDBECECBACDBDEEB...|AACDEEEECADBBCAAA...|BAECDBBXCCCBDBACC...|                1|          100|          100|          120|          100|           80|            500|   C|   D|   C|   C|   5|   D|   A|   C|   C|   A|   A|   B|   A|   A|   A|   A|   A|   A|   B|   B|   A|   C|   A|   A|   A|\n",
      "+------------+------+---------------+-------+---------------+-----------+----------------+---------------+---------------+---------+---------+------------+----------------+--------------------+---------+---------+----------------------+------------------+---------------+------------------+--------------------+-----------+-----------+--------------+--------------+--------------+--------------+-----------+-----------+-----------+-----------+----------+----------+----------+----------+--------------------+--------------------+--------------------+--------------------+---------+--------------------+--------------------+--------------------+--------------------+-----------------+-------------+-------------+-------------+-------------+-------------+---------------+----+----+----+----+----+----+----+----+----+----+----+----+----+----+----+----+----+----+----+----+----+----+----+----+----+\n",
      "only showing top 20 rows\n",
      "\n"
     ]
    }
   ],
   "source": [
    "# Visualiza os dados\n",
    "df_enem.show()"
   ]
  },
  {
   "cell_type": "code",
   "execution_count": 28,
   "metadata": {
    "colab": {
     "base_uri": "https://localhost:8080/"
    },
    "id": "OVDc9h7hQQF0",
    "outputId": "ebb4fde5-9789-461c-8c98-bb5613fd979f"
   },
   "outputs": [
    {
     "data": {
      "text/plain": [
       "5783109"
      ]
     },
     "execution_count": 28,
     "metadata": {},
     "output_type": "execute_result"
    }
   ],
   "source": [
    "# Número de registros\n",
    "df_enem.count()"
   ]
  },
  {
   "cell_type": "code",
   "execution_count": 29,
   "metadata": {
    "id": "IfRDjht1EnRU"
   },
   "outputs": [
    {
     "name": "stderr",
     "output_type": "stream",
     "text": [
      "ERROR:root:Exception while sending command.\n",
      "Traceback (most recent call last):\n",
      "  File \"C:\\spark\\python\\pyspark\\errors\\exceptions\\captured.py\", line 179, in deco\n",
      "    return f(*a, **kw)\n",
      "  File \"C:\\spark\\python\\lib\\py4j-0.10.9.7-src.zip\\py4j\\protocol.py\", line 326, in get_return_value\n",
      "    raise Py4JJavaError(\n",
      "py4j.protocol.Py4JJavaError: <exception str() failed>\n",
      "\n",
      "During handling of the above exception, another exception occurred:\n",
      "\n",
      "Traceback (most recent call last):\n",
      "  File \"C:\\spark\\python\\lib\\py4j-0.10.9.7-src.zip\\py4j\\clientserver.py\", line 511, in send_command\n",
      "    answer = smart_decode(self.stream.readline()[:-1])\n",
      "  File \"c:\\Users\\alexa\\AppData\\Local\\Programs\\Python\\Python39\\lib\\socket.py\", line 704, in readinto\n",
      "    return self._sock.recv_into(b)\n",
      "ConnectionResetError: [WinError 10054] An existing connection was forcibly closed by the remote host\n",
      "\n",
      "During handling of the above exception, another exception occurred:\n",
      "\n",
      "Traceback (most recent call last):\n",
      "  File \"C:\\spark\\python\\lib\\py4j-0.10.9.7-src.zip\\py4j\\java_gateway.py\", line 1038, in send_command\n",
      "    response = connection.send_command(command)\n",
      "  File \"C:\\spark\\python\\lib\\py4j-0.10.9.7-src.zip\\py4j\\clientserver.py\", line 539, in send_command\n",
      "    raise Py4JNetworkError(\n",
      "py4j.protocol.Py4JNetworkError: Error while sending or receiving\n"
     ]
    },
    {
     "ename": "ConnectionRefusedError",
     "evalue": "[WinError 10061] No connection could be made because the target machine actively refused it",
     "output_type": "error",
     "traceback": [
      "\u001b[1;31m---------------------------------------------------------------------------\u001b[0m",
      "\u001b[1;31mPy4JJavaError\u001b[0m                             Traceback (most recent call last)",
      "File \u001b[1;32mC:\\spark\\python\\pyspark\\errors\\exceptions\\captured.py:179\u001b[0m, in \u001b[0;36mcapture_sql_exception.<locals>.deco\u001b[1;34m(*a, **kw)\u001b[0m\n\u001b[0;32m    178\u001b[0m \u001b[38;5;28;01mtry\u001b[39;00m:\n\u001b[1;32m--> 179\u001b[0m     \u001b[38;5;28;01mreturn\u001b[39;00m f(\u001b[38;5;241m*\u001b[39ma, \u001b[38;5;241m*\u001b[39m\u001b[38;5;241m*\u001b[39mkw)\n\u001b[0;32m    180\u001b[0m \u001b[38;5;28;01mexcept\u001b[39;00m Py4JJavaError \u001b[38;5;28;01mas\u001b[39;00m e:\n",
      "File \u001b[1;32mC:\\spark\\python\\lib\\py4j-0.10.9.7-src.zip\\py4j\\protocol.py:326\u001b[0m, in \u001b[0;36mget_return_value\u001b[1;34m(answer, gateway_client, target_id, name)\u001b[0m\n\u001b[0;32m    325\u001b[0m \u001b[38;5;28;01mif\u001b[39;00m answer[\u001b[38;5;241m1\u001b[39m] \u001b[38;5;241m==\u001b[39m REFERENCE_TYPE:\n\u001b[1;32m--> 326\u001b[0m     \u001b[38;5;28;01mraise\u001b[39;00m Py4JJavaError(\n\u001b[0;32m    327\u001b[0m         \u001b[38;5;124m\"\u001b[39m\u001b[38;5;124mAn error occurred while calling \u001b[39m\u001b[38;5;132;01m{0}\u001b[39;00m\u001b[38;5;132;01m{1}\u001b[39;00m\u001b[38;5;132;01m{2}\u001b[39;00m\u001b[38;5;124m.\u001b[39m\u001b[38;5;130;01m\\n\u001b[39;00m\u001b[38;5;124m\"\u001b[39m\u001b[38;5;241m.\u001b[39m\n\u001b[0;32m    328\u001b[0m         \u001b[38;5;28mformat\u001b[39m(target_id, \u001b[38;5;124m\"\u001b[39m\u001b[38;5;124m.\u001b[39m\u001b[38;5;124m\"\u001b[39m, name), value)\n\u001b[0;32m    329\u001b[0m \u001b[38;5;28;01melse\u001b[39;00m:\n",
      "\u001b[1;31m<class 'str'>\u001b[0m: (<class 'ConnectionRefusedError'>, ConnectionRefusedError(10061, 'No connection could be made because the target machine actively refused it', None, 10061, None))",
      "\nDuring handling of the above exception, another exception occurred:\n",
      "\u001b[1;31mPy4JError\u001b[0m                                 Traceback (most recent call last)",
      "File \u001b[1;32mC:\\spark\\python\\pyspark\\sql\\dataframe.py:1263\u001b[0m, in \u001b[0;36mDataFrame.collect\u001b[1;34m(self)\u001b[0m\n\u001b[0;32m   1262\u001b[0m \u001b[38;5;28;01mwith\u001b[39;00m SCCallSiteSync(\u001b[38;5;28mself\u001b[39m\u001b[38;5;241m.\u001b[39m_sc):\n\u001b[1;32m-> 1263\u001b[0m     sock_info \u001b[38;5;241m=\u001b[39m \u001b[38;5;28;43mself\u001b[39;49m\u001b[38;5;241;43m.\u001b[39;49m\u001b[43m_jdf\u001b[49m\u001b[38;5;241;43m.\u001b[39;49m\u001b[43mcollectToPython\u001b[49m\u001b[43m(\u001b[49m\u001b[43m)\u001b[49m\n\u001b[0;32m   1264\u001b[0m \u001b[38;5;28;01mreturn\u001b[39;00m \u001b[38;5;28mlist\u001b[39m(_load_from_socket(sock_info, BatchedSerializer(CPickleSerializer())))\n",
      "File \u001b[1;32mC:\\spark\\python\\lib\\py4j-0.10.9.7-src.zip\\py4j\\java_gateway.py:1322\u001b[0m, in \u001b[0;36mJavaMember.__call__\u001b[1;34m(self, *args)\u001b[0m\n\u001b[0;32m   1321\u001b[0m answer \u001b[38;5;241m=\u001b[39m \u001b[38;5;28mself\u001b[39m\u001b[38;5;241m.\u001b[39mgateway_client\u001b[38;5;241m.\u001b[39msend_command(command)\n\u001b[1;32m-> 1322\u001b[0m return_value \u001b[38;5;241m=\u001b[39m \u001b[43mget_return_value\u001b[49m\u001b[43m(\u001b[49m\n\u001b[0;32m   1323\u001b[0m \u001b[43m    \u001b[49m\u001b[43manswer\u001b[49m\u001b[43m,\u001b[49m\u001b[43m \u001b[49m\u001b[38;5;28;43mself\u001b[39;49m\u001b[38;5;241;43m.\u001b[39;49m\u001b[43mgateway_client\u001b[49m\u001b[43m,\u001b[49m\u001b[43m \u001b[49m\u001b[38;5;28;43mself\u001b[39;49m\u001b[38;5;241;43m.\u001b[39;49m\u001b[43mtarget_id\u001b[49m\u001b[43m,\u001b[49m\u001b[43m \u001b[49m\u001b[38;5;28;43mself\u001b[39;49m\u001b[38;5;241;43m.\u001b[39;49m\u001b[43mname\u001b[49m\u001b[43m)\u001b[49m\n\u001b[0;32m   1325\u001b[0m \u001b[38;5;28;01mfor\u001b[39;00m temp_arg \u001b[38;5;129;01min\u001b[39;00m temp_args:\n",
      "File \u001b[1;32mC:\\spark\\python\\pyspark\\errors\\exceptions\\captured.py:181\u001b[0m, in \u001b[0;36mcapture_sql_exception.<locals>.deco\u001b[1;34m(*a, **kw)\u001b[0m\n\u001b[0;32m    180\u001b[0m \u001b[38;5;28;01mexcept\u001b[39;00m Py4JJavaError \u001b[38;5;28;01mas\u001b[39;00m e:\n\u001b[1;32m--> 181\u001b[0m     converted \u001b[38;5;241m=\u001b[39m \u001b[43mconvert_exception\u001b[49m\u001b[43m(\u001b[49m\u001b[43me\u001b[49m\u001b[38;5;241;43m.\u001b[39;49m\u001b[43mjava_exception\u001b[49m\u001b[43m)\u001b[49m\n\u001b[0;32m    182\u001b[0m     \u001b[38;5;28;01mif\u001b[39;00m \u001b[38;5;129;01mnot\u001b[39;00m \u001b[38;5;28misinstance\u001b[39m(converted, UnknownException):\n\u001b[0;32m    183\u001b[0m         \u001b[38;5;66;03m# Hide where the exception came from that shows a non-Pythonic\u001b[39;00m\n\u001b[0;32m    184\u001b[0m         \u001b[38;5;66;03m# JVM exception message.\u001b[39;00m\n",
      "File \u001b[1;32mC:\\spark\\python\\pyspark\\errors\\exceptions\\captured.py:149\u001b[0m, in \u001b[0;36mconvert_exception\u001b[1;34m(e)\u001b[0m\n\u001b[0;32m    148\u001b[0m     \u001b[38;5;28;01mreturn\u001b[39;00m ArrayIndexOutOfBoundsException(origin\u001b[38;5;241m=\u001b[39me)\n\u001b[1;32m--> 149\u001b[0m \u001b[38;5;28;01melif\u001b[39;00m \u001b[43mis_instance_of\u001b[49m\u001b[43m(\u001b[49m\u001b[43mgw\u001b[49m\u001b[43m,\u001b[49m\u001b[43m \u001b[49m\u001b[43me\u001b[49m\u001b[43m,\u001b[49m\u001b[43m \u001b[49m\u001b[38;5;124;43m\"\u001b[39;49m\u001b[38;5;124;43mjava.time.DateTimeException\u001b[39;49m\u001b[38;5;124;43m\"\u001b[39;49m\u001b[43m)\u001b[49m:\n\u001b[0;32m    150\u001b[0m     \u001b[38;5;28;01mreturn\u001b[39;00m DateTimeException(origin\u001b[38;5;241m=\u001b[39me)\n",
      "File \u001b[1;32mC:\\spark\\python\\lib\\py4j-0.10.9.7-src.zip\\py4j\\java_gateway.py:464\u001b[0m, in \u001b[0;36mis_instance_of\u001b[1;34m(gateway, java_object, java_class)\u001b[0m\n\u001b[0;32m    461\u001b[0m     \u001b[38;5;28;01mraise\u001b[39;00m Py4JError(\n\u001b[0;32m    462\u001b[0m         \u001b[38;5;124m\"\u001b[39m\u001b[38;5;124mjava_class must be a string, a JavaClass, or a JavaObject\u001b[39m\u001b[38;5;124m\"\u001b[39m)\n\u001b[1;32m--> 464\u001b[0m \u001b[38;5;28;01mreturn\u001b[39;00m \u001b[43mgateway\u001b[49m\u001b[38;5;241;43m.\u001b[39;49m\u001b[43mjvm\u001b[49m\u001b[38;5;241;43m.\u001b[39;49m\u001b[43mpy4j\u001b[49m\u001b[38;5;241m.\u001b[39mreflection\u001b[38;5;241m.\u001b[39mTypeUtil\u001b[38;5;241m.\u001b[39misInstanceOf(\n\u001b[0;32m    465\u001b[0m     param, java_object)\n",
      "File \u001b[1;32mC:\\spark\\python\\lib\\py4j-0.10.9.7-src.zip\\py4j\\java_gateway.py:1725\u001b[0m, in \u001b[0;36mJVMView.__getattr__\u001b[1;34m(self, name)\u001b[0m\n\u001b[0;32m   1723\u001b[0m message \u001b[38;5;241m=\u001b[39m compute_exception_message(\n\u001b[0;32m   1724\u001b[0m     \u001b[38;5;124m\"\u001b[39m\u001b[38;5;132;01m{0}\u001b[39;00m\u001b[38;5;124m does not exist in the JVM\u001b[39m\u001b[38;5;124m\"\u001b[39m\u001b[38;5;241m.\u001b[39mformat(name), error_message)\n\u001b[1;32m-> 1725\u001b[0m \u001b[38;5;28;01mraise\u001b[39;00m Py4JError(message)\n",
      "\u001b[1;31mPy4JError\u001b[0m: py4j does not exist in the JVM",
      "\nDuring handling of the above exception, another exception occurred:\n",
      "\u001b[1;31mConnectionRefusedError\u001b[0m                    Traceback (most recent call last)",
      "Cell \u001b[1;32mIn[29], line 3\u001b[0m\n\u001b[0;32m      1\u001b[0m \u001b[38;5;66;03m# Converte o dataframe do Spark para o Pandas. \u001b[39;00m\n\u001b[0;32m      2\u001b[0m \u001b[38;5;66;03m# Por quê? Porque isso vai facilitar a análise exploratória de dados.\u001b[39;00m\n\u001b[1;32m----> 3\u001b[0m df_pandas \u001b[38;5;241m=\u001b[39m \u001b[43mdf_enem\u001b[49m\u001b[38;5;241;43m.\u001b[39;49m\u001b[43mtoPandas\u001b[49m\u001b[43m(\u001b[49m\u001b[43m)\u001b[49m\n",
      "File \u001b[1;32mC:\\spark\\python\\pyspark\\sql\\pandas\\conversion.py:202\u001b[0m, in \u001b[0;36mPandasConversionMixin.toPandas\u001b[1;34m(self)\u001b[0m\n\u001b[0;32m    199\u001b[0m             \u001b[38;5;28;01mraise\u001b[39;00m\n\u001b[0;32m    201\u001b[0m \u001b[38;5;66;03m# Below is toPandas without Arrow optimization.\u001b[39;00m\n\u001b[1;32m--> 202\u001b[0m rows \u001b[38;5;241m=\u001b[39m \u001b[38;5;28;43mself\u001b[39;49m\u001b[38;5;241;43m.\u001b[39;49m\u001b[43mcollect\u001b[49m\u001b[43m(\u001b[49m\u001b[43m)\u001b[49m\n\u001b[0;32m    203\u001b[0m \u001b[38;5;28;01mif\u001b[39;00m \u001b[38;5;28mlen\u001b[39m(rows) \u001b[38;5;241m>\u001b[39m \u001b[38;5;241m0\u001b[39m:\n\u001b[0;32m    204\u001b[0m     pdf \u001b[38;5;241m=\u001b[39m pd\u001b[38;5;241m.\u001b[39mDataFrame\u001b[38;5;241m.\u001b[39mfrom_records(\n\u001b[0;32m    205\u001b[0m         rows, index\u001b[38;5;241m=\u001b[39m\u001b[38;5;28mrange\u001b[39m(\u001b[38;5;28mlen\u001b[39m(rows)), columns\u001b[38;5;241m=\u001b[39m\u001b[38;5;28mself\u001b[39m\u001b[38;5;241m.\u001b[39mcolumns  \u001b[38;5;66;03m# type: ignore[arg-type]\u001b[39;00m\n\u001b[0;32m    206\u001b[0m     )\n",
      "File \u001b[1;32mC:\\spark\\python\\pyspark\\sql\\dataframe.py:1263\u001b[0m, in \u001b[0;36mDataFrame.collect\u001b[1;34m(self)\u001b[0m\n\u001b[0;32m   1243\u001b[0m \u001b[38;5;250m\u001b[39m\u001b[38;5;124;03m\"\"\"Returns all the records as a list of :class:`Row`.\u001b[39;00m\n\u001b[0;32m   1244\u001b[0m \n\u001b[0;32m   1245\u001b[0m \u001b[38;5;124;03m.. versionadded:: 1.3.0\u001b[39;00m\n\u001b[1;32m   (...)\u001b[0m\n\u001b[0;32m   1260\u001b[0m \u001b[38;5;124;03m[Row(age=14, name='Tom'), Row(age=23, name='Alice'), Row(age=16, name='Bob')]\u001b[39;00m\n\u001b[0;32m   1261\u001b[0m \u001b[38;5;124;03m\"\"\"\u001b[39;00m\n\u001b[0;32m   1262\u001b[0m \u001b[38;5;28;01mwith\u001b[39;00m SCCallSiteSync(\u001b[38;5;28mself\u001b[39m\u001b[38;5;241m.\u001b[39m_sc):\n\u001b[1;32m-> 1263\u001b[0m     sock_info \u001b[38;5;241m=\u001b[39m \u001b[38;5;28mself\u001b[39m\u001b[38;5;241m.\u001b[39m_jdf\u001b[38;5;241m.\u001b[39mcollectToPython()\n\u001b[0;32m   1264\u001b[0m \u001b[38;5;28;01mreturn\u001b[39;00m \u001b[38;5;28mlist\u001b[39m(_load_from_socket(sock_info, BatchedSerializer(CPickleSerializer())))\n",
      "File \u001b[1;32mC:\\spark\\python\\pyspark\\traceback_utils.py:81\u001b[0m, in \u001b[0;36mSCCallSiteSync.__exit__\u001b[1;34m(self, type, value, tb)\u001b[0m\n\u001b[0;32m     79\u001b[0m SCCallSiteSync\u001b[38;5;241m.\u001b[39m_spark_stack_depth \u001b[38;5;241m-\u001b[39m\u001b[38;5;241m=\u001b[39m \u001b[38;5;241m1\u001b[39m\n\u001b[0;32m     80\u001b[0m \u001b[38;5;28;01mif\u001b[39;00m SCCallSiteSync\u001b[38;5;241m.\u001b[39m_spark_stack_depth \u001b[38;5;241m==\u001b[39m \u001b[38;5;241m0\u001b[39m:\n\u001b[1;32m---> 81\u001b[0m     \u001b[38;5;28;43mself\u001b[39;49m\u001b[38;5;241;43m.\u001b[39;49m\u001b[43m_context\u001b[49m\u001b[38;5;241;43m.\u001b[39;49m\u001b[43m_jsc\u001b[49m\u001b[38;5;241;43m.\u001b[39;49m\u001b[43msetCallSite\u001b[49m\u001b[43m(\u001b[49m\u001b[38;5;28;43;01mNone\u001b[39;49;00m\u001b[43m)\u001b[49m\n",
      "File \u001b[1;32mC:\\spark\\python\\lib\\py4j-0.10.9.7-src.zip\\py4j\\java_gateway.py:1321\u001b[0m, in \u001b[0;36mJavaMember.__call__\u001b[1;34m(self, *args)\u001b[0m\n\u001b[0;32m   1314\u001b[0m args_command, temp_args \u001b[38;5;241m=\u001b[39m \u001b[38;5;28mself\u001b[39m\u001b[38;5;241m.\u001b[39m_build_args(\u001b[38;5;241m*\u001b[39margs)\n\u001b[0;32m   1316\u001b[0m command \u001b[38;5;241m=\u001b[39m proto\u001b[38;5;241m.\u001b[39mCALL_COMMAND_NAME \u001b[38;5;241m+\u001b[39m\\\n\u001b[0;32m   1317\u001b[0m     \u001b[38;5;28mself\u001b[39m\u001b[38;5;241m.\u001b[39mcommand_header \u001b[38;5;241m+\u001b[39m\\\n\u001b[0;32m   1318\u001b[0m     args_command \u001b[38;5;241m+\u001b[39m\\\n\u001b[0;32m   1319\u001b[0m     proto\u001b[38;5;241m.\u001b[39mEND_COMMAND_PART\n\u001b[1;32m-> 1321\u001b[0m answer \u001b[38;5;241m=\u001b[39m \u001b[38;5;28;43mself\u001b[39;49m\u001b[38;5;241;43m.\u001b[39;49m\u001b[43mgateway_client\u001b[49m\u001b[38;5;241;43m.\u001b[39;49m\u001b[43msend_command\u001b[49m\u001b[43m(\u001b[49m\u001b[43mcommand\u001b[49m\u001b[43m)\u001b[49m\n\u001b[0;32m   1322\u001b[0m return_value \u001b[38;5;241m=\u001b[39m get_return_value(\n\u001b[0;32m   1323\u001b[0m     answer, \u001b[38;5;28mself\u001b[39m\u001b[38;5;241m.\u001b[39mgateway_client, \u001b[38;5;28mself\u001b[39m\u001b[38;5;241m.\u001b[39mtarget_id, \u001b[38;5;28mself\u001b[39m\u001b[38;5;241m.\u001b[39mname)\n\u001b[0;32m   1325\u001b[0m \u001b[38;5;28;01mfor\u001b[39;00m temp_arg \u001b[38;5;129;01min\u001b[39;00m temp_args:\n",
      "File \u001b[1;32mC:\\spark\\python\\lib\\py4j-0.10.9.7-src.zip\\py4j\\java_gateway.py:1036\u001b[0m, in \u001b[0;36mGatewayClient.send_command\u001b[1;34m(self, command, retry, binary)\u001b[0m\n\u001b[0;32m   1015\u001b[0m \u001b[38;5;28;01mdef\u001b[39;00m \u001b[38;5;21msend_command\u001b[39m(\u001b[38;5;28mself\u001b[39m, command, retry\u001b[38;5;241m=\u001b[39m\u001b[38;5;28;01mTrue\u001b[39;00m, binary\u001b[38;5;241m=\u001b[39m\u001b[38;5;28;01mFalse\u001b[39;00m):\n\u001b[0;32m   1016\u001b[0m \u001b[38;5;250m    \u001b[39m\u001b[38;5;124;03m\"\"\"Sends a command to the JVM. This method is not intended to be\u001b[39;00m\n\u001b[0;32m   1017\u001b[0m \u001b[38;5;124;03m       called directly by Py4J users. It is usually called by\u001b[39;00m\n\u001b[0;32m   1018\u001b[0m \u001b[38;5;124;03m       :class:`JavaMember` instances.\u001b[39;00m\n\u001b[1;32m   (...)\u001b[0m\n\u001b[0;32m   1034\u001b[0m \u001b[38;5;124;03m     if `binary` is `True`.\u001b[39;00m\n\u001b[0;32m   1035\u001b[0m \u001b[38;5;124;03m    \"\"\"\u001b[39;00m\n\u001b[1;32m-> 1036\u001b[0m     connection \u001b[38;5;241m=\u001b[39m \u001b[38;5;28;43mself\u001b[39;49m\u001b[38;5;241;43m.\u001b[39;49m\u001b[43m_get_connection\u001b[49m\u001b[43m(\u001b[49m\u001b[43m)\u001b[49m\n\u001b[0;32m   1037\u001b[0m     \u001b[38;5;28;01mtry\u001b[39;00m:\n\u001b[0;32m   1038\u001b[0m         response \u001b[38;5;241m=\u001b[39m connection\u001b[38;5;241m.\u001b[39msend_command(command)\n",
      "File \u001b[1;32mC:\\spark\\python\\lib\\py4j-0.10.9.7-src.zip\\py4j\\clientserver.py:284\u001b[0m, in \u001b[0;36mJavaClient._get_connection\u001b[1;34m(self)\u001b[0m\n\u001b[0;32m    281\u001b[0m     \u001b[38;5;28;01mpass\u001b[39;00m\n\u001b[0;32m    283\u001b[0m \u001b[38;5;28;01mif\u001b[39;00m connection \u001b[38;5;129;01mis\u001b[39;00m \u001b[38;5;28;01mNone\u001b[39;00m \u001b[38;5;129;01mor\u001b[39;00m connection\u001b[38;5;241m.\u001b[39msocket \u001b[38;5;129;01mis\u001b[39;00m \u001b[38;5;28;01mNone\u001b[39;00m:\n\u001b[1;32m--> 284\u001b[0m     connection \u001b[38;5;241m=\u001b[39m \u001b[38;5;28;43mself\u001b[39;49m\u001b[38;5;241;43m.\u001b[39;49m\u001b[43m_create_new_connection\u001b[49m\u001b[43m(\u001b[49m\u001b[43m)\u001b[49m\n\u001b[0;32m    285\u001b[0m \u001b[38;5;28;01mreturn\u001b[39;00m connection\n",
      "File \u001b[1;32mC:\\spark\\python\\lib\\py4j-0.10.9.7-src.zip\\py4j\\clientserver.py:291\u001b[0m, in \u001b[0;36mJavaClient._create_new_connection\u001b[1;34m(self)\u001b[0m\n\u001b[0;32m    287\u001b[0m \u001b[38;5;28;01mdef\u001b[39;00m \u001b[38;5;21m_create_new_connection\u001b[39m(\u001b[38;5;28mself\u001b[39m):\n\u001b[0;32m    288\u001b[0m     connection \u001b[38;5;241m=\u001b[39m ClientServerConnection(\n\u001b[0;32m    289\u001b[0m         \u001b[38;5;28mself\u001b[39m\u001b[38;5;241m.\u001b[39mjava_parameters, \u001b[38;5;28mself\u001b[39m\u001b[38;5;241m.\u001b[39mpython_parameters,\n\u001b[0;32m    290\u001b[0m         \u001b[38;5;28mself\u001b[39m\u001b[38;5;241m.\u001b[39mgateway_property, \u001b[38;5;28mself\u001b[39m)\n\u001b[1;32m--> 291\u001b[0m     \u001b[43mconnection\u001b[49m\u001b[38;5;241;43m.\u001b[39;49m\u001b[43mconnect_to_java_server\u001b[49m\u001b[43m(\u001b[49m\u001b[43m)\u001b[49m\n\u001b[0;32m    292\u001b[0m     \u001b[38;5;28mself\u001b[39m\u001b[38;5;241m.\u001b[39mset_thread_connection(connection)\n\u001b[0;32m    293\u001b[0m     \u001b[38;5;28;01mreturn\u001b[39;00m connection\n",
      "File \u001b[1;32mC:\\spark\\python\\lib\\py4j-0.10.9.7-src.zip\\py4j\\clientserver.py:438\u001b[0m, in \u001b[0;36mClientServerConnection.connect_to_java_server\u001b[1;34m(self)\u001b[0m\n\u001b[0;32m    435\u001b[0m \u001b[38;5;28;01mif\u001b[39;00m \u001b[38;5;28mself\u001b[39m\u001b[38;5;241m.\u001b[39mssl_context:\n\u001b[0;32m    436\u001b[0m     \u001b[38;5;28mself\u001b[39m\u001b[38;5;241m.\u001b[39msocket \u001b[38;5;241m=\u001b[39m \u001b[38;5;28mself\u001b[39m\u001b[38;5;241m.\u001b[39mssl_context\u001b[38;5;241m.\u001b[39mwrap_socket(\n\u001b[0;32m    437\u001b[0m         \u001b[38;5;28mself\u001b[39m\u001b[38;5;241m.\u001b[39msocket, server_hostname\u001b[38;5;241m=\u001b[39m\u001b[38;5;28mself\u001b[39m\u001b[38;5;241m.\u001b[39mjava_address)\n\u001b[1;32m--> 438\u001b[0m \u001b[38;5;28;43mself\u001b[39;49m\u001b[38;5;241;43m.\u001b[39;49m\u001b[43msocket\u001b[49m\u001b[38;5;241;43m.\u001b[39;49m\u001b[43mconnect\u001b[49m\u001b[43m(\u001b[49m\u001b[43m(\u001b[49m\u001b[38;5;28;43mself\u001b[39;49m\u001b[38;5;241;43m.\u001b[39;49m\u001b[43mjava_address\u001b[49m\u001b[43m,\u001b[49m\u001b[43m \u001b[49m\u001b[38;5;28;43mself\u001b[39;49m\u001b[38;5;241;43m.\u001b[39;49m\u001b[43mjava_port\u001b[49m\u001b[43m)\u001b[49m\u001b[43m)\u001b[49m\n\u001b[0;32m    439\u001b[0m \u001b[38;5;28mself\u001b[39m\u001b[38;5;241m.\u001b[39mstream \u001b[38;5;241m=\u001b[39m \u001b[38;5;28mself\u001b[39m\u001b[38;5;241m.\u001b[39msocket\u001b[38;5;241m.\u001b[39mmakefile(\u001b[38;5;124m\"\u001b[39m\u001b[38;5;124mrb\u001b[39m\u001b[38;5;124m\"\u001b[39m)\n\u001b[0;32m    440\u001b[0m \u001b[38;5;28mself\u001b[39m\u001b[38;5;241m.\u001b[39mis_connected \u001b[38;5;241m=\u001b[39m \u001b[38;5;28;01mTrue\u001b[39;00m\n",
      "\u001b[1;31mConnectionRefusedError\u001b[0m: [WinError 10061] No connection could be made because the target machine actively refused it"
     ]
    }
   ],
   "source": [
    "# Converte o dataframe do Spark para o Pandas. \n",
    "# Por quê? Porque isso vai facilitar a análise exploratória de dados.\n",
    "df_pandas = df_enem.toPandas()"
   ]
  },
  {
   "cell_type": "code",
   "execution_count": null,
   "metadata": {},
   "outputs": [],
   "source": [
    "type(df_pandas)"
   ]
  },
  {
   "cell_type": "markdown",
   "metadata": {
    "id": "9tkmDU-nFaQ1"
   },
   "source": [
    "## Análise Exploratória\n",
    "\n",
    "Leia os manuais em pdf no Capítulo 11 do curso com detalhes sobre a forma ideal de fazer análise exploratória."
   ]
  },
  {
   "cell_type": "code",
   "execution_count": null,
   "metadata": {
    "colab": {
     "base_uri": "https://localhost:8080/",
     "height": 798
    },
    "id": "TiQ9memLFU7o",
    "outputId": "4c3f0f7b-689c-4d0c-8b2e-8a7fd7c2bbc8"
   },
   "outputs": [],
   "source": [
    "# Heatmap para visualizar a correlação\n",
    "corr = df_pandas.corr()\n",
    "f,ax = plt.subplots(figsize = (10, 10))\n",
    "sns.heatmap(corr, annot = True, linewidths = .5, fmt = '.1f', ax = ax)"
   ]
  },
  {
   "cell_type": "markdown",
   "metadata": {},
   "source": [
    "Idealmente queremos alta correlação entre as variáveis de entrada e a variável de saída e baixa correlação entre as variáveis de entrada!"
   ]
  },
  {
   "cell_type": "code",
   "execution_count": null,
   "metadata": {
    "colab": {
     "base_uri": "https://localhost:8080/",
     "height": 354
    },
    "id": "MyZiZ1TPFtwB",
    "outputId": "9a1813d5-8c59-4dbf-fe5d-72004b8228ef"
   },
   "outputs": [],
   "source": [
    "# Scatter Plot Volume Bitcoin x Volume Moeda\n",
    "plt.figure(figsize = (12,5))\n",
    "sns.set(style = 'whitegrid')\n",
    "df_pandas.plot(kind = 'scatter', x = 'VolBTC', y = 'VolCurrency')\n",
    "plt.xlabel('Volume Bitcoin')            \n",
    "plt.ylabel('Volume Moeda')\n",
    "plt.title('Scatter Plot Volume Bitcoin x Volume Moeda') \n",
    "plt.show()"
   ]
  },
  {
   "cell_type": "code",
   "execution_count": null,
   "metadata": {
    "colab": {
     "base_uri": "https://localhost:8080/",
     "height": 334
    },
    "id": "05VzSva7F2Fi",
    "outputId": "9d7f82da-2bfe-4eca-9477-549a722ba718"
   },
   "outputs": [],
   "source": [
    "# Line Plot Cotação Open x High \n",
    "plt.figure(figsize = (16,5))\n",
    "df_pandas.Open.plot(kind = 'line', \n",
    "                    color = 'r', \n",
    "                    label = 'Open', \n",
    "                    alpha = 0.5, \n",
    "                    linewidth = 5, \n",
    "                    grid = True, \n",
    "                    linestyle = ':')\n",
    "df_pandas.High.plot(color = 'g', \n",
    "                    label = 'High', \n",
    "                    linewidth = 1, \n",
    "                    alpha = 0.5, \n",
    "                    grid = True, \n",
    "                    linestyle = '-.')\n",
    "plt.legend(loc = 'upper left') \n",
    "plt.xlabel('Tempo')\n",
    "plt.ylabel('Cotação')\n",
    "plt.title('Line Plot Cotação Open x High ')\n",
    "plt.show()"
   ]
  },
  {
   "cell_type": "code",
   "execution_count": null,
   "metadata": {
    "colab": {
     "base_uri": "https://localhost:8080/",
     "height": 285
    },
    "id": "JpvxQrWvGAeG",
    "outputId": "baf663e4-f16a-4c53-89eb-fc54d066fd1d"
   },
   "outputs": [],
   "source": [
    "# Histograma da cotação de abertura\n",
    "df_pandas.Open.plot(kind = 'hist', bins = 50)"
   ]
  },
  {
   "cell_type": "code",
   "execution_count": null,
   "metadata": {
    "colab": {
     "base_uri": "https://localhost:8080/",
     "height": 316
    },
    "id": "ngLiJaa2GGdt",
    "outputId": "80f1d27e-2556-44cc-bac1-d2fa2ef06306"
   },
   "outputs": [],
   "source": [
    "# Plot do valor ponderado da cotação (variável alvo) por hora\n",
    "plt.plot(hour, weighted_price , 'g*')\n",
    "plt.xlabel('Hora')            \n",
    "plt.ylabel('Valor Ponderado da Cotação')\n",
    "plt.title('Valor Ponderado da Cotação Por Hora') \n",
    "plt.show()"
   ]
  },
  {
   "cell_type": "code",
   "execution_count": null,
   "metadata": {
    "colab": {
     "base_uri": "https://localhost:8080/",
     "height": 317
    },
    "id": "HxzKBxLWGSuX",
    "outputId": "180a771c-ee05-49ff-ca69-a79b1e879b3b"
   },
   "outputs": [],
   "source": [
    "# Plot do valor ponderado da cotação por dia da semana\n",
    "plt.plot(date_of_week, weighted_price, 'b*')\n",
    "plt.xlabel('Dia da Semana')            \n",
    "plt.ylabel('Valor Ponderado da Cotação')\n",
    "plt.title('Valor Ponderado da Cotação Por Dia da Semana') \n",
    "plt.show()"
   ]
  },
  {
   "cell_type": "code",
   "execution_count": null,
   "metadata": {
    "colab": {
     "base_uri": "https://localhost:8080/",
     "height": 316
    },
    "id": "WBeCmHNxGaLQ",
    "outputId": "979b0dc9-0817-495a-8552-25486d98f58d"
   },
   "outputs": [],
   "source": [
    "# Plot do VolBTC por hora\n",
    "plt.plot(hour, volume_BTC, 'r*')\n",
    "plt.xlabel('Hora')            \n",
    "plt.ylabel('VolBTC')\n",
    "plt.title('Volume Negociado de Bitcoin Por Hora') \n",
    "plt.show()"
   ]
  },
  {
   "cell_type": "code",
   "execution_count": null,
   "metadata": {
    "colab": {
     "base_uri": "https://localhost:8080/",
     "height": 317
    },
    "id": "P0eF5351Gj-p",
    "outputId": "f5de0ac2-e6ea-4c2a-a794-3bb5bb666974"
   },
   "outputs": [],
   "source": [
    "# Plot de VolBTC por dia da semana\n",
    "plt.plot(date_of_week, volume_BTC, 'yo')\n",
    "plt.xlabel('Dia da Semana')            \n",
    "plt.ylabel('VolBTC')\n",
    "plt.title('Volume Negociado de Bitcoin Por Dia da Semana') \n",
    "plt.show()"
   ]
  },
  {
   "cell_type": "code",
   "execution_count": null,
   "metadata": {
    "colab": {
     "base_uri": "https://localhost:8080/",
     "height": 316
    },
    "id": "g5wgxlbRGt-_",
    "outputId": "430abea4-dff7-4d8c-a160-b11a73d7706d"
   },
   "outputs": [],
   "source": [
    "# Plot do valor ponderado da cotação por ano\n",
    "plt.plot(year, weighted_price , 'm^')\n",
    "plt.xlabel('Ano')            \n",
    "plt.ylabel('Valor Ponderado da Cotação')\n",
    "plt.title('Valor Ponderado da Cotação Por Ano') \n",
    "plt.show()"
   ]
  },
  {
   "cell_type": "code",
   "execution_count": null,
   "metadata": {
    "colab": {
     "base_uri": "https://localhost:8080/",
     "height": 316
    },
    "id": "erWh8_FdG2zE",
    "outputId": "d824beba-b50d-4193-8eaf-7f92e8052163"
   },
   "outputs": [],
   "source": [
    "# Plot do Volume por ano\n",
    "plt.plot(year, volume_BTC , 'kD')\n",
    "plt.xlabel('Ano')            \n",
    "plt.ylabel('volume BTC')\n",
    "plt.title('Volume de BTC Negociado Por Ano') \n",
    "plt.show()"
   ]
  },
  {
   "cell_type": "markdown",
   "metadata": {
    "id": "dRo5ze0IHEKj"
   },
   "source": [
    "## Engenharia de Atributos com PySpark"
   ]
  },
  {
   "cell_type": "code",
   "execution_count": null,
   "metadata": {},
   "outputs": [],
   "source": [
    "df_enem.printSchema()"
   ]
  },
  {
   "cell_type": "code",
   "execution_count": null,
   "metadata": {},
   "outputs": [],
   "source": [
    "# Prepara o vetor de atributos\n",
    "assembler = VectorAssembler(inputCols = ['Open', 'VolBTC', 'VolCurrency'], \n",
    "                            outputCol = \"features\")"
   ]
  },
  {
   "cell_type": "code",
   "execution_count": null,
   "metadata": {},
   "outputs": [],
   "source": [
    "# Cria o dataframe do vetor de atributos\n",
    "df_assembled = assembler.transform(df_enem)"
   ]
  },
  {
   "cell_type": "code",
   "execution_count": null,
   "metadata": {
    "colab": {
     "base_uri": "https://localhost:8080/"
    },
    "id": "StWTbF0qG9PO",
    "outputId": "d7a9d528-32ae-4d24-dcb3-95203e75e65f"
   },
   "outputs": [],
   "source": [
    "# Visualiza os dados\n",
    "df_assembled.show(10, truncate = False)"
   ]
  },
  {
   "cell_type": "markdown",
   "metadata": {
    "id": "nm_lbag4Q2z0"
   },
   "source": [
    "## Normalização"
   ]
  },
  {
   "cell_type": "code",
   "execution_count": null,
   "metadata": {
    "id": "iu3u0U77RD4e"
   },
   "outputs": [],
   "source": [
    "# Divisão em dados de treino e teste\n",
    "dados_treino, dados_teste = df_assembled.randomSplit([.7,.3], seed = rnd_seed)"
   ]
  },
  {
   "cell_type": "code",
   "execution_count": null,
   "metadata": {},
   "outputs": [],
   "source": [
    "type(dados_treino)"
   ]
  },
  {
   "cell_type": "code",
   "execution_count": null,
   "metadata": {},
   "outputs": [],
   "source": [
    "# Cria o scaler\n",
    "scaler = MinMaxScaler(inputCol = \"features\", outputCol = \"scaled_features\")"
   ]
  },
  {
   "cell_type": "code",
   "execution_count": null,
   "metadata": {},
   "outputs": [],
   "source": [
    "# Fit nos dados de treino\n",
    "scalerModel = scaler.fit(dados_treino)"
   ]
  },
  {
   "cell_type": "code",
   "execution_count": null,
   "metadata": {},
   "outputs": [],
   "source": [
    "# Fit e transform nos dados de treino\n",
    "dados_treino_scaled = scalerModel.transform(dados_treino)"
   ]
  },
  {
   "cell_type": "code",
   "execution_count": null,
   "metadata": {},
   "outputs": [],
   "source": [
    "# Transform nos dados de teste\n",
    "dados_teste_scaled = scalerModel.transform(dados_teste)"
   ]
  },
  {
   "cell_type": "code",
   "execution_count": null,
   "metadata": {},
   "outputs": [],
   "source": [
    "dados_treino_scaled.select(\"features\", \"scaled_features\").show(10, truncate = False)"
   ]
  },
  {
   "cell_type": "code",
   "execution_count": null,
   "metadata": {
    "colab": {
     "base_uri": "https://localhost:8080/"
    },
    "id": "fNPuY44AQ096",
    "outputId": "4d210d17-5010-4a0f-d062-753aa88f9af3"
   },
   "outputs": [],
   "source": [
    "dados_treino_scaled.columns"
   ]
  },
  {
   "cell_type": "markdown",
   "metadata": {},
   "source": [
    "## Machine Learning"
   ]
  },
  {
   "cell_type": "markdown",
   "metadata": {},
   "source": [
    "> Versão 1 do Modelo (Benchmark)"
   ]
  },
  {
   "cell_type": "code",
   "execution_count": null,
   "metadata": {
    "id": "YA1ZyOJ3RGVJ"
   },
   "outputs": [],
   "source": [
    "# Cria o modelo de regressão\n",
    "modelo_lr_v1 = (LinearRegression(featuresCol = 'scaled_features', \n",
    "                                 labelCol = \"Weighted_Price\", \n",
    "                                 predictionCol = 'Predicted_price', \n",
    "                                 maxIter = 100, \n",
    "                                 regParam = 0.3, \n",
    "                                 elasticNetParam = 0.8, \n",
    "                                 standardization = False))"
   ]
  },
  {
   "cell_type": "code",
   "execution_count": null,
   "metadata": {
    "id": "yPRnllMPRMRv"
   },
   "outputs": [],
   "source": [
    "# Treina o modelo\n",
    "modelo_v1 = modelo_lr_v1.fit(dados_treino_scaled)"
   ]
  },
  {
   "cell_type": "markdown",
   "metadata": {},
   "source": [
    "Se tiver mensagem de WARN, isso indica que o Spark não encontrou a biblioteca de otimização de álgebra linear (que precisa ser instalada, mas não é requerida para este projeto). Mais detalhes aqui:\n",
    "\n",
    "https://spark.apache.org/docs/latest/ml-linalg-guide.html"
   ]
  },
  {
   "cell_type": "code",
   "execution_count": null,
   "metadata": {},
   "outputs": [],
   "source": [
    "# Salva o modelo em disco\n",
    "modelo_v1.write().overwrite().save(\"modelos/modelo_v1\")"
   ]
  },
  {
   "cell_type": "markdown",
   "metadata": {},
   "source": [
    "## Avaliação do Modelo"
   ]
  },
  {
   "cell_type": "code",
   "execution_count": null,
   "metadata": {},
   "outputs": [],
   "source": [
    "# Previsões com dados de teste\n",
    "previsoes_v1 = modelo_v1.transform(dados_teste_scaled)"
   ]
  },
  {
   "cell_type": "code",
   "execution_count": null,
   "metadata": {
    "colab": {
     "base_uri": "https://localhost:8080/"
    },
    "id": "1kbl3LPYQs1F",
    "outputId": "dc44635b-4eff-4d47-b293-d771c894d401"
   },
   "outputs": [],
   "source": [
    "# Seleciona as colunas\n",
    "pred_data_v1 = previsoes_v1.select(\"Predicted_price\", \"Weighted_Price\").show(10)"
   ]
  },
  {
   "cell_type": "code",
   "execution_count": null,
   "metadata": {
    "colab": {
     "base_uri": "https://localhost:8080/"
    },
    "id": "CyegPQDYUgpS",
    "outputId": "e975ba51-f7d4-4a0e-ebc2-5dcf19bfdaaf"
   },
   "outputs": [],
   "source": [
    "# Mean Absolute Error\n",
    "print(\"Mean Absolute Error (MAE) nos dados de teste: {0}\".format(modelo_v1.summary.meanAbsoluteError))"
   ]
  },
  {
   "cell_type": "code",
   "execution_count": null,
   "metadata": {},
   "outputs": [],
   "source": [
    "# Cria um avaliador para o modelo de regressão\n",
    "evaluator = RegressionEvaluator(labelCol = \"Weighted_Price\", \n",
    "                                predictionCol = \"Predicted_price\", \n",
    "                                metricName = \"rmse\")"
   ]
  },
  {
   "cell_type": "code",
   "execution_count": null,
   "metadata": {
    "colab": {
     "base_uri": "https://localhost:8080/"
    },
    "id": "U8P-5aiTRlEQ",
    "outputId": "816db6a9-fefc-4e24-e18e-db526d2877a9"
   },
   "outputs": [],
   "source": [
    "# Aplica o avaliador\n",
    "rmse_v1 = evaluator.evaluate(previsoes_v1)\n",
    "print(\"Root Mean Squared Error (RMSE) nos dados de teste = %g\" % rmse_v1)"
   ]
  },
  {
   "cell_type": "code",
   "execution_count": null,
   "metadata": {},
   "outputs": [],
   "source": [
    "# Extrai as previsões\n",
    "pred_results_v1 = modelo_v1.evaluate(dados_teste_scaled)"
   ]
  },
  {
   "cell_type": "code",
   "execution_count": null,
   "metadata": {},
   "outputs": [],
   "source": [
    "# Valores reais de Y sendo convertidos para o formato do Pandas\n",
    "Y = pred_results_v1.predictions.select('Weighted_Price').toPandas()"
   ]
  },
  {
   "cell_type": "code",
   "execution_count": null,
   "metadata": {},
   "outputs": [],
   "source": [
    "# Valores previstos de Y sendo convertidos para o formato do Pandas\n",
    "_Y = pred_results_v1.predictions.select(\"Predicted_price\").toPandas()"
   ]
  },
  {
   "cell_type": "code",
   "execution_count": null,
   "metadata": {
    "colab": {
     "base_uri": "https://localhost:8080/",
     "height": 375
    },
    "id": "OpQ2cQD7S4fy",
    "outputId": "98d34558-a74c-4017-8a94-df98eeca6033"
   },
   "outputs": [],
   "source": [
    "# Distribuição dos valores reais x valores previstos\n",
    "sns.set_style(\"dark\")\n",
    "ax1 = sns.displot(Y, color = \"r\", label = \"Valores Reais\")\n",
    "sns.displot(_Y, color = \"b\", label = \"Valores Previstos\")"
   ]
  },
  {
   "cell_type": "code",
   "execution_count": null,
   "metadata": {
    "colab": {
     "base_uri": "https://localhost:8080/",
     "height": 498
    },
    "id": "jLEikiKxUEvt",
    "outputId": "b1056043-ba8e-4767-84a6-3afb76cd61d7"
   },
   "outputs": [],
   "source": [
    "# Plot dos valores reais x valores previstos\n",
    "plt.figure(figsize = (12,7))\n",
    "plt.plot(Y, color = 'green', marker = '*', linestyle = 'dashed', label = 'Predicted Price')\n",
    "plt.plot(_Y, color = 'red', label = 'Weighted Price')\n",
    "plt.title('Resultado do Modelo')\n",
    "plt.xlabel('Valor Real')\n",
    "plt.ylabel('Valor Previsto')\n",
    "plt.legend()"
   ]
  },
  {
   "cell_type": "markdown",
   "metadata": {},
   "source": [
    "> Versão 2 do Modelo (Otimização de Hiperparâmetros)"
   ]
  },
  {
   "cell_type": "code",
   "execution_count": null,
   "metadata": {},
   "outputs": [],
   "source": [
    "# Cria o modelo\n",
    "modelo_lr_v2 = (LinearRegression(featuresCol = 'scaled_features', \n",
    "                                 labelCol = \"Weighted_Price\", \n",
    "                                 predictionCol = 'Predicted_price'))"
   ]
  },
  {
   "cell_type": "code",
   "execution_count": null,
   "metadata": {},
   "outputs": [],
   "source": [
    "# Cria um grid para otimização de hiperparâmetros\n",
    "grid = ParamGridBuilder().addGrid(modelo_lr_v2.maxIter, [50, 100]).build()"
   ]
  },
  {
   "cell_type": "code",
   "execution_count": null,
   "metadata": {},
   "outputs": [],
   "source": [
    "# Cria o avaliador (será usado na validação cruzada)\n",
    "evaluator = RegressionEvaluator(labelCol = \"Weighted_Price\", \n",
    "                                predictionCol = \"Predicted_price\", \n",
    "                                metricName = \"rmse\")"
   ]
  },
  {
   "cell_type": "code",
   "execution_count": null,
   "metadata": {},
   "outputs": [],
   "source": [
    "# Cria o CrossValidator\n",
    "cv = CrossValidator(estimator = modelo_lr_v2, estimatorParamMaps = grid, evaluator = evaluator, parallelism = 2)"
   ]
  },
  {
   "cell_type": "code",
   "execution_count": null,
   "metadata": {},
   "outputs": [],
   "source": [
    "# Treina o CrossValidator\n",
    "cvModel = cv.fit(dados_treino_scaled)"
   ]
  },
  {
   "cell_type": "code",
   "execution_count": null,
   "metadata": {},
   "outputs": [],
   "source": [
    "# Extrai o melhor modelo do CrossValidator\n",
    "modelo_v2 = cvModel.bestModel"
   ]
  },
  {
   "cell_type": "code",
   "execution_count": null,
   "metadata": {},
   "outputs": [],
   "source": [
    "# Salva o modelo em disco\n",
    "modelo_v2.write().overwrite().save(\"modelos/modelo_v2\")"
   ]
  },
  {
   "cell_type": "markdown",
   "metadata": {},
   "source": [
    "## Avaliação do Modelo"
   ]
  },
  {
   "cell_type": "code",
   "execution_count": null,
   "metadata": {},
   "outputs": [],
   "source": [
    "# Previsões com dados de teste\n",
    "previsoes_v2 = modelo_v2.transform(dados_teste_scaled)"
   ]
  },
  {
   "cell_type": "code",
   "execution_count": null,
   "metadata": {},
   "outputs": [],
   "source": [
    "# Seleciona as colunas\n",
    "pred_data_v2 = previsoes_v2.select(\"Predicted_price\", \"Weighted_Price\").show(10)"
   ]
  },
  {
   "cell_type": "code",
   "execution_count": null,
   "metadata": {},
   "outputs": [],
   "source": [
    "# Mean Absolute Error\n",
    "print(\"MAE: {0}\".format(modelo_v2.summary.meanAbsoluteError))"
   ]
  },
  {
   "cell_type": "code",
   "execution_count": null,
   "metadata": {},
   "outputs": [],
   "source": [
    "evaluator = RegressionEvaluator(labelCol = \"Weighted_Price\", \n",
    "                                predictionCol = \"Predicted_price\", \n",
    "                                metricName = \"rmse\")"
   ]
  },
  {
   "cell_type": "code",
   "execution_count": null,
   "metadata": {},
   "outputs": [],
   "source": [
    "# Aplica o avaliador\n",
    "rmse_v2 = evaluator.evaluate(previsoes_v2)\n",
    "print(\"Root Mean Squared Error (RMSE) nos dados de teste = %g\" % rmse_v2)"
   ]
  },
  {
   "cell_type": "code",
   "execution_count": null,
   "metadata": {},
   "outputs": [],
   "source": [
    "# Plot dos valores reais x valores previstos\n",
    "\n",
    "# Extrai as previsões\n",
    "pred_results_v2 = modelo_v2.evaluate(dados_teste_scaled)\n",
    "\n",
    "# Valores reais de Y sendo convertidos para o formato do Pandas\n",
    "Y = pred_results_v2.predictions.select('Weighted_Price').toPandas()\n",
    "\n",
    "# Valores previstos de Y sendo convertidos para o formato do Pandas\n",
    "_Y = pred_results_v2.predictions.select(\"Predicted_price\").toPandas()\n",
    "\n",
    "# Plot\n",
    "sns.set_style(\"dark\")\n",
    "ax1 = sns.displot(Y, color = \"r\", label = \"Valores Reais\")\n",
    "sns.displot(_Y, color = \"b\", label = \"Valores Previstos\")"
   ]
  },
  {
   "cell_type": "code",
   "execution_count": null,
   "metadata": {},
   "outputs": [],
   "source": [
    "# Plot dos valores reais x valores previstos\n",
    "plt.figure(figsize = (12,7))\n",
    "plt.plot(Y, color = 'green', marker = '*', linestyle = 'dashed', label = 'Predicted Price')\n",
    "plt.plot(_Y, color = 'red', label = 'Weighted Price')\n",
    "plt.title('Resultado do Modelo')\n",
    "plt.xlabel('Valor Real')\n",
    "plt.ylabel('Valor Previsto')\n",
    "plt.legend()"
   ]
  },
  {
   "cell_type": "markdown",
   "metadata": {},
   "source": [
    "As mensagens de WARN no treinamento do modelo_v2 indicam que o modelo parece instável e talvez esteja com overfitting. Usaremos o modelo_v1."
   ]
  },
  {
   "cell_type": "markdown",
   "metadata": {},
   "source": [
    "## Previsões em Tempo Real"
   ]
  },
  {
   "cell_type": "code",
   "execution_count": null,
   "metadata": {},
   "outputs": [],
   "source": [
    "# Novos dados\n",
    "novos_dados = [[20546.29, 3422.57, 72403082.02], [21620.85, 3271.14, 71319207.5]]"
   ]
  },
  {
   "cell_type": "code",
   "execution_count": null,
   "metadata": {},
   "outputs": [],
   "source": [
    "# Prepara o dataframe do Pandas\n",
    "df_novos_dados = pd.DataFrame(novos_dados, columns = ['Open', 'VolBTC', 'VolCurrency'])"
   ]
  },
  {
   "cell_type": "code",
   "execution_count": null,
   "metadata": {},
   "outputs": [],
   "source": [
    "# Visualiza\n",
    "df_novos_dados"
   ]
  },
  {
   "cell_type": "code",
   "execution_count": null,
   "metadata": {},
   "outputs": [],
   "source": [
    "# Converte o dataframe do Pandas para dataframe do Spark\n",
    "df_novos_dados_spark = spark_session.createDataFrame(df_novos_dados) "
   ]
  },
  {
   "cell_type": "code",
   "execution_count": null,
   "metadata": {},
   "outputs": [],
   "source": [
    "# Schema\n",
    "df_novos_dados_spark.printSchema()"
   ]
  },
  {
   "cell_type": "code",
   "execution_count": null,
   "metadata": {},
   "outputs": [],
   "source": [
    "# Visualiza\n",
    "df_novos_dados_spark.show()"
   ]
  },
  {
   "cell_type": "code",
   "execution_count": null,
   "metadata": {},
   "outputs": [],
   "source": [
    "# Cria o dataframe do vetor de atributos\n",
    "df_assembled = assembler.transform(df_novos_dados_spark)"
   ]
  },
  {
   "cell_type": "code",
   "execution_count": null,
   "metadata": {},
   "outputs": [],
   "source": [
    "# Visualiza os dados\n",
    "df_assembled.show()"
   ]
  },
  {
   "cell_type": "code",
   "execution_count": null,
   "metadata": {},
   "outputs": [],
   "source": [
    "# Normaliza os dados\n",
    "df_assembled_scaled = scalerModel.transform(df_assembled)"
   ]
  },
  {
   "cell_type": "code",
   "execution_count": null,
   "metadata": {},
   "outputs": [],
   "source": [
    "# Previsões com os novos dados\n",
    "previsoes = modelo_v1.transform(df_assembled_scaled)"
   ]
  },
  {
   "cell_type": "code",
   "execution_count": null,
   "metadata": {},
   "outputs": [],
   "source": [
    "# Imprime as previsões\n",
    "pred_data = previsoes.select(\"Predicted_price\").show()"
   ]
  },
  {
   "cell_type": "code",
   "execution_count": null,
   "metadata": {
    "id": "wOR_mZjfUWW3"
   },
   "outputs": [],
   "source": [
    "# Encerra a sessão Spark\n",
    "spark_session.stop()"
   ]
  },
  {
   "cell_type": "markdown",
   "metadata": {},
   "source": [
    "# Fim"
   ]
  }
 ],
 "metadata": {
  "colab": {
   "name": "BitCoinTrend.ipynb",
   "provenance": []
  },
  "kernelspec": {
   "display_name": "Python 3",
   "language": "python",
   "name": "python3"
  },
  "language_info": {
   "codemirror_mode": {
    "name": "ipython",
    "version": 3
   },
   "file_extension": ".py",
   "mimetype": "text/x-python",
   "name": "python",
   "nbconvert_exporter": "python",
   "pygments_lexer": "ipython3",
   "version": "3.9.7"
  }
 },
 "nbformat": 4,
 "nbformat_minor": 1
}
